{
 "cells": [
  {
   "cell_type": "markdown",
   "metadata": {},
   "source": [
    "### Stock Market Prediction And Forecasting Using Stacked LSTM"
   ]
  },
  {
   "cell_type": "code",
   "execution_count": 188,
   "metadata": {},
   "outputs": [],
   "source": [
    "### Keras and Tensorflow >2.0"
   ]
  },
  {
   "cell_type": "code",
   "execution_count": 189,
   "metadata": {},
   "outputs": [],
   "source": [
    "### Data Collection\n",
    "import pandas_datareader as pdr\n",
    "key=\"\""
   ]
  },
  {
   "cell_type": "code",
   "execution_count": 190,
   "metadata": {},
   "outputs": [],
   "source": [
    "import pandas as pd"
   ]
  },
  {
   "cell_type": "code",
   "execution_count": 191,
   "metadata": {},
   "outputs": [],
   "source": [
    "# For reading stock data from yahoo\n",
    "from pandas_datareader.data import DataReader\n",
    "import yfinance as yf\n",
    "\n",
    "# For time stamps\n",
    "from datetime import datetime"
   ]
  },
  {
   "cell_type": "code",
   "execution_count": 192,
   "metadata": {},
   "outputs": [
    {
     "name": "stdout",
     "output_type": "stream",
     "text": [
      "[*********************100%***********************]  1 of 1 completed\n"
     ]
    }
   ],
   "source": [
    "df=yf.download('AAPL', start='2012-01-01', end=datetime.now())"
   ]
  },
  {
   "cell_type": "code",
   "execution_count": 3,
   "metadata": {},
   "outputs": [
    {
     "data": {
      "text/plain": [
       "[[20.137882], [20.177393], [20.251802], [117.950165], [118.59623], [119.19045]]"
      ]
     },
     "execution_count": 3,
     "metadata": {},
     "output_type": "execute_result"
    }
   ],
   "source": [
    "train_predict= [[ 20.137882],[ 20.177393]\n",
    " ,[ 20.251802]\n",
    " ,[117.950165]\n",
    " ,[118.59623 ]\n",
    " ,[119.19045 ]]\n",
    "train_predict.r"
   ]
  },
  {
   "cell_type": "code",
   "execution_count": 193,
   "metadata": {},
   "outputs": [
    {
     "data": {
      "text/html": [
       "<div>\n",
       "<style scoped>\n",
       "    .dataframe tbody tr th:only-of-type {\n",
       "        vertical-align: middle;\n",
       "    }\n",
       "\n",
       "    .dataframe tbody tr th {\n",
       "        vertical-align: top;\n",
       "    }\n",
       "\n",
       "    .dataframe thead th {\n",
       "        text-align: right;\n",
       "    }\n",
       "</style>\n",
       "<table border=\"1\" class=\"dataframe\">\n",
       "  <thead>\n",
       "    <tr style=\"text-align: right;\">\n",
       "      <th></th>\n",
       "      <th>Open</th>\n",
       "      <th>High</th>\n",
       "      <th>Low</th>\n",
       "      <th>Close</th>\n",
       "      <th>Adj Close</th>\n",
       "      <th>Volume</th>\n",
       "    </tr>\n",
       "    <tr>\n",
       "      <th>Date</th>\n",
       "      <th></th>\n",
       "      <th></th>\n",
       "      <th></th>\n",
       "      <th></th>\n",
       "      <th></th>\n",
       "      <th></th>\n",
       "    </tr>\n",
       "  </thead>\n",
       "  <tbody>\n",
       "    <tr>\n",
       "      <th>2012-01-03 00:00:00-05:00</th>\n",
       "      <td>14.621429</td>\n",
       "      <td>14.732143</td>\n",
       "      <td>14.607143</td>\n",
       "      <td>14.686786</td>\n",
       "      <td>12.519280</td>\n",
       "      <td>302220800</td>\n",
       "    </tr>\n",
       "    <tr>\n",
       "      <th>2012-01-04 00:00:00-05:00</th>\n",
       "      <td>14.642857</td>\n",
       "      <td>14.810000</td>\n",
       "      <td>14.617143</td>\n",
       "      <td>14.765714</td>\n",
       "      <td>12.586557</td>\n",
       "      <td>260022000</td>\n",
       "    </tr>\n",
       "    <tr>\n",
       "      <th>2012-01-05 00:00:00-05:00</th>\n",
       "      <td>14.819643</td>\n",
       "      <td>14.948214</td>\n",
       "      <td>14.738214</td>\n",
       "      <td>14.929643</td>\n",
       "      <td>12.726294</td>\n",
       "      <td>271269600</td>\n",
       "    </tr>\n",
       "    <tr>\n",
       "      <th>2012-01-06 00:00:00-05:00</th>\n",
       "      <td>14.991786</td>\n",
       "      <td>15.098214</td>\n",
       "      <td>14.972143</td>\n",
       "      <td>15.085714</td>\n",
       "      <td>12.859331</td>\n",
       "      <td>318292800</td>\n",
       "    </tr>\n",
       "    <tr>\n",
       "      <th>2012-01-09 00:00:00-05:00</th>\n",
       "      <td>15.196429</td>\n",
       "      <td>15.276786</td>\n",
       "      <td>15.048214</td>\n",
       "      <td>15.061786</td>\n",
       "      <td>12.838936</td>\n",
       "      <td>394024400</td>\n",
       "    </tr>\n",
       "  </tbody>\n",
       "</table>\n",
       "</div>"
      ],
      "text/plain": [
       "                                Open       High        Low      Close  \\\n",
       "Date                                                                    \n",
       "2012-01-03 00:00:00-05:00  14.621429  14.732143  14.607143  14.686786   \n",
       "2012-01-04 00:00:00-05:00  14.642857  14.810000  14.617143  14.765714   \n",
       "2012-01-05 00:00:00-05:00  14.819643  14.948214  14.738214  14.929643   \n",
       "2012-01-06 00:00:00-05:00  14.991786  15.098214  14.972143  15.085714   \n",
       "2012-01-09 00:00:00-05:00  15.196429  15.276786  15.048214  15.061786   \n",
       "\n",
       "                           Adj Close     Volume  \n",
       "Date                                             \n",
       "2012-01-03 00:00:00-05:00  12.519280  302220800  \n",
       "2012-01-04 00:00:00-05:00  12.586557  260022000  \n",
       "2012-01-05 00:00:00-05:00  12.726294  271269600  \n",
       "2012-01-06 00:00:00-05:00  12.859331  318292800  \n",
       "2012-01-09 00:00:00-05:00  12.838936  394024400  "
      ]
     },
     "execution_count": 193,
     "metadata": {},
     "output_type": "execute_result"
    }
   ],
   "source": [
    "df.head()"
   ]
  },
  {
   "cell_type": "code",
   "execution_count": 194,
   "metadata": {},
   "outputs": [
    {
     "data": {
      "text/html": [
       "<div>\n",
       "<style scoped>\n",
       "    .dataframe tbody tr th:only-of-type {\n",
       "        vertical-align: middle;\n",
       "    }\n",
       "\n",
       "    .dataframe tbody tr th {\n",
       "        vertical-align: top;\n",
       "    }\n",
       "\n",
       "    .dataframe thead th {\n",
       "        text-align: right;\n",
       "    }\n",
       "</style>\n",
       "<table border=\"1\" class=\"dataframe\">\n",
       "  <thead>\n",
       "    <tr style=\"text-align: right;\">\n",
       "      <th></th>\n",
       "      <th>Open</th>\n",
       "      <th>High</th>\n",
       "      <th>Low</th>\n",
       "      <th>Close</th>\n",
       "      <th>Adj Close</th>\n",
       "      <th>Volume</th>\n",
       "    </tr>\n",
       "    <tr>\n",
       "      <th>Date</th>\n",
       "      <th></th>\n",
       "      <th></th>\n",
       "      <th></th>\n",
       "      <th></th>\n",
       "      <th></th>\n",
       "      <th></th>\n",
       "    </tr>\n",
       "  </thead>\n",
       "  <tbody>\n",
       "    <tr>\n",
       "      <th>2023-01-30 00:00:00-05:00</th>\n",
       "      <td>144.960007</td>\n",
       "      <td>145.550003</td>\n",
       "      <td>142.850006</td>\n",
       "      <td>143.000000</td>\n",
       "      <td>143.000000</td>\n",
       "      <td>64015300</td>\n",
       "    </tr>\n",
       "    <tr>\n",
       "      <th>2023-01-31 00:00:00-05:00</th>\n",
       "      <td>142.699997</td>\n",
       "      <td>144.339996</td>\n",
       "      <td>142.279999</td>\n",
       "      <td>144.289993</td>\n",
       "      <td>144.289993</td>\n",
       "      <td>65874500</td>\n",
       "    </tr>\n",
       "    <tr>\n",
       "      <th>2023-02-01 00:00:00-05:00</th>\n",
       "      <td>143.970001</td>\n",
       "      <td>146.610001</td>\n",
       "      <td>141.320007</td>\n",
       "      <td>145.429993</td>\n",
       "      <td>145.429993</td>\n",
       "      <td>77663600</td>\n",
       "    </tr>\n",
       "    <tr>\n",
       "      <th>2023-02-02 00:00:00-05:00</th>\n",
       "      <td>148.899994</td>\n",
       "      <td>151.179993</td>\n",
       "      <td>148.169998</td>\n",
       "      <td>150.820007</td>\n",
       "      <td>150.820007</td>\n",
       "      <td>118339000</td>\n",
       "    </tr>\n",
       "    <tr>\n",
       "      <th>2023-02-03 00:00:00-05:00</th>\n",
       "      <td>148.029999</td>\n",
       "      <td>157.380005</td>\n",
       "      <td>147.830002</td>\n",
       "      <td>154.500000</td>\n",
       "      <td>154.500000</td>\n",
       "      <td>154279900</td>\n",
       "    </tr>\n",
       "  </tbody>\n",
       "</table>\n",
       "</div>"
      ],
      "text/plain": [
       "                                 Open        High         Low       Close  \\\n",
       "Date                                                                        \n",
       "2023-01-30 00:00:00-05:00  144.960007  145.550003  142.850006  143.000000   \n",
       "2023-01-31 00:00:00-05:00  142.699997  144.339996  142.279999  144.289993   \n",
       "2023-02-01 00:00:00-05:00  143.970001  146.610001  141.320007  145.429993   \n",
       "2023-02-02 00:00:00-05:00  148.899994  151.179993  148.169998  150.820007   \n",
       "2023-02-03 00:00:00-05:00  148.029999  157.380005  147.830002  154.500000   \n",
       "\n",
       "                            Adj Close     Volume  \n",
       "Date                                              \n",
       "2023-01-30 00:00:00-05:00  143.000000   64015300  \n",
       "2023-01-31 00:00:00-05:00  144.289993   65874500  \n",
       "2023-02-01 00:00:00-05:00  145.429993   77663600  \n",
       "2023-02-02 00:00:00-05:00  150.820007  118339000  \n",
       "2023-02-03 00:00:00-05:00  154.500000  154279900  "
      ]
     },
     "execution_count": 194,
     "metadata": {},
     "output_type": "execute_result"
    }
   ],
   "source": [
    "df.tail()"
   ]
  },
  {
   "cell_type": "code",
   "execution_count": 195,
   "metadata": {},
   "outputs": [],
   "source": [
    "df1=df['Close']"
   ]
  },
  {
   "cell_type": "code",
   "execution_count": 196,
   "metadata": {},
   "outputs": [
    {
     "data": {
      "text/plain": [
       "Date\n",
       "2012-01-03 00:00:00-05:00     14.686786\n",
       "2012-01-04 00:00:00-05:00     14.765714\n",
       "2012-01-05 00:00:00-05:00     14.929643\n",
       "2012-01-06 00:00:00-05:00     15.085714\n",
       "2012-01-09 00:00:00-05:00     15.061786\n",
       "                                ...    \n",
       "2023-01-30 00:00:00-05:00    143.000000\n",
       "2023-01-31 00:00:00-05:00    144.289993\n",
       "2023-02-01 00:00:00-05:00    145.429993\n",
       "2023-02-02 00:00:00-05:00    150.820007\n",
       "2023-02-03 00:00:00-05:00    154.500000\n",
       "Name: Close, Length: 2791, dtype: float64"
      ]
     },
     "execution_count": 196,
     "metadata": {},
     "output_type": "execute_result"
    }
   ],
   "source": [
    "df1"
   ]
  },
  {
   "cell_type": "code",
   "execution_count": 197,
   "metadata": {},
   "outputs": [
    {
     "data": {
      "text/plain": [
       "[<matplotlib.lines.Line2D at 0x1babcfe81c0>]"
      ]
     },
     "execution_count": 197,
     "metadata": {},
     "output_type": "execute_result"
    },
    {
     "data": {
      "image/png": "[encoded data removed]",
      "text/plain": [
       "<Figure size 640x480 with 1 Axes>"
      ]
     },
     "metadata": {},
     "output_type": "display_data"
    }
   ],
   "source": [
    "import matplotlib.pyplot as plt\n",
    "plt.plot(df1)"
   ]
  },
  {
   "cell_type": "code",
   "execution_count": 198,
   "metadata": {},
   "outputs": [],
   "source": [
    "### LSTM are sensitive to the scale of the data. so we apply MinMax scaler "
   ]
  },
  {
   "cell_type": "code",
   "execution_count": 199,
   "metadata": {},
   "outputs": [],
   "source": [
    "import numpy as np"
   ]
  },
  {
   "cell_type": "code",
   "execution_count": 200,
   "metadata": {},
   "outputs": [
    {
     "data": {
      "text/plain": [
       "Date\n",
       "2012-01-03 00:00:00-05:00     14.686786\n",
       "2012-01-04 00:00:00-05:00     14.765714\n",
       "2012-01-05 00:00:00-05:00     14.929643\n",
       "2012-01-06 00:00:00-05:00     15.085714\n",
       "2012-01-09 00:00:00-05:00     15.061786\n",
       "                                ...    \n",
       "2023-01-30 00:00:00-05:00    143.000000\n",
       "2023-01-31 00:00:00-05:00    144.289993\n",
       "2023-02-01 00:00:00-05:00    145.429993\n",
       "2023-02-02 00:00:00-05:00    150.820007\n",
       "2023-02-03 00:00:00-05:00    154.500000\n",
       "Name: Close, Length: 2791, dtype: float64"
      ]
     },
     "execution_count": 200,
     "metadata": {},
     "output_type": "execute_result"
    }
   ],
   "source": [
    "df1"
   ]
  },
  {
   "cell_type": "code",
   "execution_count": 201,
   "metadata": {},
   "outputs": [],
   "source": [
    "from sklearn.preprocessing import MinMaxScaler\n",
    "scaler=MinMaxScaler(feature_range=(0,1))\n",
    "df1=scaler.fit_transform(np.array(df1).reshape(-1,1))"
   ]
  },
  {
   "cell_type": "code",
   "execution_count": 202,
   "metadata": {},
   "outputs": [
    {
     "name": "stdout",
     "output_type": "stream",
     "text": [
      "[[0.00439887]\n",
      " [0.00486851]\n",
      " [0.00584391]\n",
      " ...\n",
      " [0.78234286]\n",
      " [0.81441435]\n",
      " [0.83631092]]\n"
     ]
    }
   ],
   "source": [
    "print(df1)"
   ]
  },
  {
   "cell_type": "code",
   "execution_count": 203,
   "metadata": {},
   "outputs": [],
   "source": [
    "##splitting dataset into train and test split\n",
    "training_size=int(len(df1)*0.9)\n",
    "test_size=len(df1)-training_size\n",
    "train_data,test_data=df1[0:training_size,:],df1[training_size:len(df1),:1]"
   ]
  },
  {
   "cell_type": "code",
   "execution_count": 204,
   "metadata": {},
   "outputs": [
    {
     "data": {
      "text/plain": [
       "(2511, 280)"
      ]
     },
     "execution_count": 204,
     "metadata": {},
     "output_type": "execute_result"
    }
   ],
   "source": [
    "training_size,test_size"
   ]
  },
  {
   "cell_type": "code",
   "execution_count": 205,
   "metadata": {},
   "outputs": [
    {
     "data": {
      "text/plain": [
       "array([[0.00439887],\n",
       "       [0.00486851],\n",
       "       [0.00584391],\n",
       "       ...,\n",
       "       [0.92705098],\n",
       "       [0.94632955],\n",
       "       [0.96209746]])"
      ]
     },
     "execution_count": 205,
     "metadata": {},
     "output_type": "execute_result"
    }
   ],
   "source": [
    "train_data"
   ]
  },
  {
   "cell_type": "code",
   "execution_count": 206,
   "metadata": {},
   "outputs": [],
   "source": [
    "import numpy\n",
    "# convert an array of values into a dataset matrix\n",
    "def create_dataset(dataset, time_step=1):\n",
    "\tdataX, dataY = [], []\n",
    "\tfor i in range(len(dataset)-time_step-1):\n",
    "\t\ta = dataset[i:(i+time_step), 0]   ###i=0, 0,1,2,3-----99   100 \n",
    "\t\tdataX.append(a)\n",
    "\t\tdataY.append(dataset[i + time_step, 0])\n",
    "\treturn numpy.array(dataX), numpy.array(dataY)"
   ]
  },
  {
   "cell_type": "code",
   "execution_count": 207,
   "metadata": {},
   "outputs": [],
   "source": [
    "# reshape into X=t,t+1,t+2,t+3 and Y=t+4\n",
    "time_step = 100\n",
    "X_train, y_train = create_dataset(train_data, time_step)\n",
    "X_test, ytest = create_dataset(test_data, time_step)"
   ]
  },
  {
   "cell_type": "code",
   "execution_count": 208,
   "metadata": {},
   "outputs": [
    {
     "name": "stdout",
     "output_type": "stream",
     "text": [
      "(2410, 100)\n",
      "(2410,)\n"
     ]
    },
    {
     "data": {
      "text/plain": [
       "(None, None)"
      ]
     },
     "execution_count": 208,
     "metadata": {},
     "output_type": "execute_result"
    }
   ],
   "source": [
    "print(X_train.shape), print(y_train.shape)"
   ]
  },
  {
   "cell_type": "code",
   "execution_count": 209,
   "metadata": {},
   "outputs": [
    {
     "name": "stdout",
     "output_type": "stream",
     "text": [
      "(179, 100)\n",
      "(179,)\n"
     ]
    },
    {
     "data": {
      "text/plain": [
       "(None, None)"
      ]
     },
     "execution_count": 209,
     "metadata": {},
     "output_type": "execute_result"
    }
   ],
   "source": [
    "print(X_test.shape), print(ytest.shape)"
   ]
  },
  {
   "cell_type": "code",
   "execution_count": 210,
   "metadata": {},
   "outputs": [],
   "source": [
    "# reshape input to be [samples, time steps, features] which is required for LSTM\n",
    "X_train =X_train.reshape(X_train.shape[0],X_train.shape[1] , 1)\n",
    "X_test = X_test.reshape(X_test.shape[0],X_test.shape[1] , 1)"
   ]
  },
  {
   "cell_type": "code",
   "execution_count": 211,
   "metadata": {},
   "outputs": [],
   "source": [
    "### Create the Stacked LSTM model\n",
    "from tensorflow.keras.models import Sequential\n",
    "from tensorflow.keras.layers import Dense\n",
    "from tensorflow.keras.layers import LSTM"
   ]
  },
  {
   "cell_type": "code",
   "execution_count": 212,
   "metadata": {},
   "outputs": [],
   "source": [
    "model=Sequential()\n",
    "model.add(LSTM(50,input_shape=(100,1)))\n",
    "# model.add(LSTM(50,return_sequences=True))\n",
    "# model.add(LSTM(50))\n",
    "model.add(Dense(1))\n",
    "model.compile(loss='mean_squared_error',optimizer='adam')\n"
   ]
  },
  {
   "cell_type": "code",
   "execution_count": 213,
   "metadata": {},
   "outputs": [
    {
     "name": "stdout",
     "output_type": "stream",
     "text": [
      "Model: \"sequential_5\"\n",
      "_________________________________________________________________\n",
      " Layer (type)                Output Shape              Param #   \n",
      "=================================================================\n",
      " lstm_9 (LSTM)               (None, 50)                10400     \n",
      "                                                                 \n",
      " dense_5 (Dense)             (None, 1)                 51        \n",
      "                                                                 \n",
      "=================================================================\n",
      "Total params: 10,451\n",
      "Trainable params: 10,451\n",
      "Non-trainable params: 0\n",
      "_________________________________________________________________\n"
     ]
    }
   ],
   "source": [
    "model.summary()"
   ]
  },
  {
   "cell_type": "code",
   "execution_count": 214,
   "metadata": {},
   "outputs": [
    {
     "name": "stdout",
     "output_type": "stream",
     "text": [
      "Model: \"sequential_5\"\n",
      "_________________________________________________________________\n",
      " Layer (type)                Output Shape              Param #   \n",
      "=================================================================\n",
      " lstm_9 (LSTM)               (None, 50)                10400     \n",
      "                                                                 \n",
      " dense_5 (Dense)             (None, 1)                 51        \n",
      "                                                                 \n",
      "=================================================================\n",
      "Total params: 10,451\n",
      "Trainable params: 10,451\n",
      "Non-trainable params: 0\n",
      "_________________________________________________________________\n"
     ]
    }
   ],
   "source": [
    "model.summary()"
   ]
  },
  {
   "cell_type": "code",
   "execution_count": null,
   "metadata": {},
   "outputs": [],
   "source": []
  },
  {
   "cell_type": "code",
   "execution_count": 215,
   "metadata": {},
   "outputs": [
    {
     "name": "stdout",
     "output_type": "stream",
     "text": [
      "Epoch 1/10\n",
      "38/38 [==============================] - 5s 59ms/step - loss: 0.0105 - val_loss: 0.0073\n",
      "Epoch 2/10\n",
      "38/38 [==============================] - 2s 43ms/step - loss: 2.9141e-04 - val_loss: 0.0019\n",
      "Epoch 3/10\n",
      "38/38 [==============================] - 2s 45ms/step - loss: 2.0766e-04 - val_loss: 0.0020\n",
      "Epoch 4/10\n",
      "38/38 [==============================] - 2s 46ms/step - loss: 1.9773e-04 - val_loss: 0.0014\n",
      "Epoch 5/10\n",
      "38/38 [==============================] - 2s 44ms/step - loss: 1.8139e-04 - val_loss: 0.0014\n",
      "Epoch 6/10\n",
      "38/38 [==============================] - 2s 44ms/step - loss: 1.7142e-04 - val_loss: 0.0013\n",
      "Epoch 7/10\n",
      "38/38 [==============================] - 2s 44ms/step - loss: 1.7224e-04 - val_loss: 0.0012\n",
      "Epoch 8/10\n",
      "38/38 [==============================] - 2s 44ms/step - loss: 1.7287e-04 - val_loss: 0.0016\n",
      "Epoch 9/10\n",
      "38/38 [==============================] - 2s 42ms/step - loss: 1.6413e-04 - val_loss: 0.0012\n",
      "Epoch 10/10\n",
      "38/38 [==============================] - 2s 45ms/step - loss: 1.5985e-04 - val_loss: 0.0012\n"
     ]
    },
    {
     "data": {
      "text/plain": [
       "<keras.callbacks.History at 0x1bab9869880>"
      ]
     },
     "execution_count": 215,
     "metadata": {},
     "output_type": "execute_result"
    }
   ],
   "source": [
    "model.fit(X_train,y_train,validation_data=(X_test,ytest),epochs=10,batch_size=64,verbose=1)"
   ]
  },
  {
   "cell_type": "code",
   "execution_count": 216,
   "metadata": {},
   "outputs": [],
   "source": [
    "import tensorflow as tf"
   ]
  },
  {
   "cell_type": "code",
   "execution_count": 217,
   "metadata": {},
   "outputs": [
    {
     "data": {
      "text/plain": [
       "'2.11.0'"
      ]
     },
     "execution_count": 217,
     "metadata": {},
     "output_type": "execute_result"
    }
   ],
   "source": [
    "tf.__version__"
   ]
  },
  {
   "cell_type": "code",
   "execution_count": 218,
   "metadata": {},
   "outputs": [
    {
     "name": "stdout",
     "output_type": "stream",
     "text": [
      "76/76 [==============================] - 1s 11ms/step\n",
      "6/6 [==============================] - 0s 11ms/step\n"
     ]
    }
   ],
   "source": [
    "### Lets Do the prediction and check performance metrics\n",
    "train_predict=model.predict(X_train)\n",
    "test_predict=model.predict(X_test)"
   ]
  },
  {
   "cell_type": "code",
   "execution_count": 219,
   "metadata": {},
   "outputs": [
    {
     "data": {
      "text/plain": [
       "array([[0.03639703],\n",
       "       [0.03653827],\n",
       "       [0.03690104],\n",
       "       ...,\n",
       "       [0.9523255 ],\n",
       "       [0.9533928 ],\n",
       "       [0.95251083]], dtype=float32)"
      ]
     },
     "execution_count": 219,
     "metadata": {},
     "output_type": "execute_result"
    }
   ],
   "source": [
    "train_predict"
   ]
  },
  {
   "cell_type": "code",
   "execution_count": 220,
   "metadata": {},
   "outputs": [],
   "source": [
    "##Transformback to original form\n",
    "train_predict=scaler.inverse_transform(train_predict)\n",
    "test_predict=scaler.inverse_transform(test_predict)"
   ]
  },
  {
   "cell_type": "code",
   "execution_count": 221,
   "metadata": {},
   "outputs": [
    {
     "data": {
      "text/plain": [
       "62.77331880869029"
      ]
     },
     "execution_count": 221,
     "metadata": {},
     "output_type": "execute_result"
    }
   ],
   "source": [
    "### Calculate RMSE performance metrics\n",
    "import math\n",
    "from sklearn.metrics import mean_squared_error\n",
    "math.sqrt(mean_squared_error(y_train,train_predict))"
   ]
  },
  {
   "cell_type": "code",
   "execution_count": 222,
   "metadata": {},
   "outputs": [
    {
     "data": {
      "text/plain": [
       "147.65645997116573"
      ]
     },
     "execution_count": 222,
     "metadata": {},
     "output_type": "execute_result"
    }
   ],
   "source": [
    "### Test Data RMSE\n",
    "math.sqrt(mean_squared_error(ytest,test_predict))"
   ]
  },
  {
   "cell_type": "code",
   "execution_count": 223,
   "metadata": {},
   "outputs": [
    {
     "data": {
      "image/png": "[encoded data removed]",
      "text/plain": [
       "<Figure size 640x480 with 1 Axes>"
      ]
     },
     "metadata": {},
     "output_type": "display_data"
    }
   ],
   "source": [
    "### Plotting \n",
    "# shift train predictions for plotting\n",
    "look_back=100\n",
    "trainPredictPlot = numpy.empty_like(df1)\n",
    "trainPredictPlot[:, :] = np.nan\n",
    "trainPredictPlot[look_back:len(train_predict)+look_back, :] = train_predict\n",
    "# shift test predictions for plotting\n",
    "testPredictPlot = numpy.empty_like(df1)\n",
    "testPredictPlot[:, :] = numpy.nan\n",
    "testPredictPlot[len(train_predict)+(look_back*2)+1:len(df1)-1, :] = test_predict\n",
    "# plot baseline and predictions\n",
    "plt.plot(scaler.inverse_transform(df1))\n",
    "plt.plot(trainPredictPlot)\n",
    "plt.plot(testPredictPlot)\n",
    "plt.show()"
   ]
  },
  {
   "cell_type": "code",
   "execution_count": 224,
   "metadata": {},
   "outputs": [
    {
     "data": {
      "text/plain": [
       "280"
      ]
     },
     "execution_count": 224,
     "metadata": {},
     "output_type": "execute_result"
    }
   ],
   "source": [
    "len(test_data)"
   ]
  },
  {
   "cell_type": "code",
   "execution_count": 225,
   "metadata": {},
   "outputs": [
    {
     "data": {
      "text/plain": [
       "(1, 100)"
      ]
     },
     "execution_count": 225,
     "metadata": {},
     "output_type": "execute_result"
    }
   ],
   "source": [
    "x_input=test_data[len(test_data)-100:].reshape(1,-1)\n",
    "x_input.shape\n"
   ]
  },
  {
   "cell_type": "code",
   "execution_count": null,
   "metadata": {},
   "outputs": [],
   "source": []
  },
  {
   "cell_type": "code",
   "execution_count": null,
   "metadata": {},
   "outputs": [],
   "source": []
  },
  {
   "cell_type": "code",
   "execution_count": 226,
   "metadata": {},
   "outputs": [],
   "source": [
    "temp_input=list(x_input)\n",
    "temp_input=temp_input[0].tolist()"
   ]
  },
  {
   "cell_type": "code",
   "execution_count": 227,
   "metadata": {},
   "outputs": [
    {
     "data": {
      "text/plain": [
       "[0.8323837909822064,\n",
       " 0.8411305445456274,\n",
       " 0.8236370374187854,\n",
       " 0.813700268503626,\n",
       " 0.8361918945831797,\n",
       " 0.8505912891616211,\n",
       " 0.8316697999296337,\n",
       " 0.8258386611514702,\n",
       " 0.812093697842986,\n",
       " 0.8141168238125278,\n",
       " 0.8200074315809551,\n",
       " 0.8085831207780352,\n",
       " 0.764789883970666,\n",
       " 0.7393231741155909,\n",
       " 0.7646113862075229,\n",
       " 0.7863295522442401,\n",
       " 0.7881145298756717,\n",
       " 0.782342860087772,\n",
       " 0.7505689871553678,\n",
       " 0.7525325533422941,\n",
       " 0.7439642975420162,\n",
       " 0.7401561939410428,\n",
       " 0.7678245275288028,\n",
       " 0.7403942514868014,\n",
       " 0.7643734194541159,\n",
       " 0.7723466221823488,\n",
       " 0.7730011442446576,\n",
       " 0.7702045582322793,\n",
       " 0.793291237383878,\n",
       " 0.8062625590648225,\n",
       " 0.8234585396556422,\n",
       " 0.8056675967851291,\n",
       " 0.7785943162694141,\n",
       " 0.8436891638045987,\n",
       " 0.829408707206685,\n",
       " 0.8134027419676035,\n",
       " 0.7799628293842955,\n",
       " 0.7433693352623229,\n",
       " 0.7403942514868014,\n",
       " 0.7436073020157299,\n",
       " 0.7470584100904168,\n",
       " 0.7195091052755362,\n",
       " 0.7909111158880499,\n",
       " 0.8077501009525833,\n",
       " 0.7993008739251846,\n",
       " 0.8097731361297734,\n",
       " 0.8023354266909699,\n",
       " 0.8138192972765053,\n",
       " 0.8172108455685769,\n",
       " 0.7976943032645446,\n",
       " 0.8106061559552253,\n",
       " 0.8159018922363109,\n",
       " 0.7982893563365895,\n",
       " 0.775143208194727,\n",
       " 0.7569951790055762,\n",
       " 0.7978133320374239,\n",
       " 0.7994793716883277,\n",
       " 0.7965042879128064,\n",
       " 0.7894831337829046,\n",
       " 0.7673485032296372,\n",
       " 0.7556266658906948,\n",
       " 0.7658014015592611,\n",
       " 0.7628858775663552,\n",
       " 0.776749778855367,\n",
       " 0.7825809176335305,\n",
       " 0.7691335716534203,\n",
       " 0.7292079074372885,\n",
       " 0.7173670413254667,\n",
       " 0.7046336863979291,\n",
       " 0.704217221881379,\n",
       " 0.7229602133502232,\n",
       " 0.7038006665724772,\n",
       " 0.7015991336321439,\n",
       " 0.6907103161186534,\n",
       " 0.6669691603009218,\n",
       " 0.6882112566422975,\n",
       " 0.6901152630466084,\n",
       " 0.6611974905130221,\n",
       " 0.6688732121014085,\n",
       " 0.6608999639769997,\n",
       " 0.6882707256325614,\n",
       " 0.691424307171226,\n",
       " 0.694875415245913,\n",
       " 0.7112979357938962,\n",
       " 0.7108219114947305,\n",
       " 0.7188545832132274,\n",
       " 0.7258758281354807,\n",
       " 0.7215322312450779,\n",
       " 0.7218892267713642,\n",
       " 0.7373596079286646,\n",
       " 0.7566381834792899,\n",
       " 0.7650874105066885,\n",
       " 0.7611008091425719,\n",
       " 0.7735961973167025,\n",
       " 0.7853179438632933,\n",
       " 0.7678839965190667,\n",
       " 0.7755596727112772,\n",
       " 0.782342860087772,\n",
       " 0.8144143503485503,\n",
       " 0.836310923356059]"
      ]
     },
     "execution_count": 227,
     "metadata": {},
     "output_type": "execute_result"
    }
   ],
   "source": [
    "temp_input"
   ]
  },
  {
   "cell_type": "code",
   "execution_count": 228,
   "metadata": {},
   "outputs": [
    {
     "name": "stdout",
     "output_type": "stream",
     "text": [
      "[0.7896412]\n",
      "101\n",
      "1 day input [0.84113054 0.82363704 0.81370027 0.83619189 0.85059129 0.8316698\n",
      " 0.82583866 0.8120937  0.81411682 0.82000743 0.80858312 0.76478988\n",
      " 0.73932317 0.76461139 0.78632955 0.78811453 0.78234286 0.75056899\n",
      " 0.75253255 0.7439643  0.74015619 0.76782453 0.74039425 0.76437342\n",
      " 0.77234662 0.77300114 0.77020456 0.79329124 0.80626256 0.82345854\n",
      " 0.8056676  0.77859432 0.84368916 0.82940871 0.81340274 0.77996283\n",
      " 0.74336934 0.74039425 0.7436073  0.74705841 0.71950911 0.79091112\n",
      " 0.8077501  0.79930087 0.80977314 0.80233543 0.8138193  0.81721085\n",
      " 0.7976943  0.81060616 0.81590189 0.79828936 0.77514321 0.75699518\n",
      " 0.79781333 0.79947937 0.79650429 0.78948313 0.7673485  0.75562667\n",
      " 0.7658014  0.76288588 0.77674978 0.78258092 0.76913357 0.72920791\n",
      " 0.71736704 0.70463369 0.70421722 0.72296021 0.70380067 0.70159913\n",
      " 0.69071032 0.66696916 0.68821126 0.69011526 0.66119749 0.66887321\n",
      " 0.66089996 0.68827073 0.69142431 0.69487542 0.71129794 0.71082191\n",
      " 0.71885458 0.72587583 0.72153223 0.72188923 0.73735961 0.75663818\n",
      " 0.76508741 0.76110081 0.7735962  0.78531794 0.767884   0.77555967\n",
      " 0.78234286 0.81441435 0.83631092 0.7896412 ]\n",
      "1 day output [[0.79387236]]\n",
      "2 day input [0.82363704 0.81370027 0.83619189 0.85059129 0.8316698  0.82583866\n",
      " 0.8120937  0.81411682 0.82000743 0.80858312 0.76478988 0.73932317\n",
      " 0.76461139 0.78632955 0.78811453 0.78234286 0.75056899 0.75253255\n",
      " 0.7439643  0.74015619 0.76782453 0.74039425 0.76437342 0.77234662\n",
      " 0.77300114 0.77020456 0.79329124 0.80626256 0.82345854 0.8056676\n",
      " 0.77859432 0.84368916 0.82940871 0.81340274 0.77996283 0.74336934\n",
      " 0.74039425 0.7436073  0.74705841 0.71950911 0.79091112 0.8077501\n",
      " 0.79930087 0.80977314 0.80233543 0.8138193  0.81721085 0.7976943\n",
      " 0.81060616 0.81590189 0.79828936 0.77514321 0.75699518 0.79781333\n",
      " 0.79947937 0.79650429 0.78948313 0.7673485  0.75562667 0.7658014\n",
      " 0.76288588 0.77674978 0.78258092 0.76913357 0.72920791 0.71736704\n",
      " 0.70463369 0.70421722 0.72296021 0.70380067 0.70159913 0.69071032\n",
      " 0.66696916 0.68821126 0.69011526 0.66119749 0.66887321 0.66089996\n",
      " 0.68827073 0.69142431 0.69487542 0.71129794 0.71082191 0.71885458\n",
      " 0.72587583 0.72153223 0.72188923 0.73735961 0.75663818 0.76508741\n",
      " 0.76110081 0.7735962  0.78531794 0.767884   0.77555967 0.78234286\n",
      " 0.81441435 0.83631092 0.7896412  0.79387236]\n",
      "2 day output [[0.7976182]]\n",
      "3 day input [0.81370027 0.83619189 0.85059129 0.8316698  0.82583866 0.8120937\n",
      " 0.81411682 0.82000743 0.80858312 0.76478988 0.73932317 0.76461139\n",
      " 0.78632955 0.78811453 0.78234286 0.75056899 0.75253255 0.7439643\n",
      " 0.74015619 0.76782453 0.74039425 0.76437342 0.77234662 0.77300114\n",
      " 0.77020456 0.79329124 0.80626256 0.82345854 0.8056676  0.77859432\n",
      " 0.84368916 0.82940871 0.81340274 0.77996283 0.74336934 0.74039425\n",
      " 0.7436073  0.74705841 0.71950911 0.79091112 0.8077501  0.79930087\n",
      " 0.80977314 0.80233543 0.8138193  0.81721085 0.7976943  0.81060616\n",
      " 0.81590189 0.79828936 0.77514321 0.75699518 0.79781333 0.79947937\n",
      " 0.79650429 0.78948313 0.7673485  0.75562667 0.7658014  0.76288588\n",
      " 0.77674978 0.78258092 0.76913357 0.72920791 0.71736704 0.70463369\n",
      " 0.70421722 0.72296021 0.70380067 0.70159913 0.69071032 0.66696916\n",
      " 0.68821126 0.69011526 0.66119749 0.66887321 0.66089996 0.68827073\n",
      " 0.69142431 0.69487542 0.71129794 0.71082191 0.71885458 0.72587583\n",
      " 0.72153223 0.72188923 0.73735961 0.75663818 0.76508741 0.76110081\n",
      " 0.7735962  0.78531794 0.767884   0.77555967 0.78234286 0.81441435\n",
      " 0.83631092 0.7896412  0.79387236 0.79761821]\n",
      "3 day output [[0.8007819]]\n",
      "4 day input [0.83619189 0.85059129 0.8316698  0.82583866 0.8120937  0.81411682\n",
      " 0.82000743 0.80858312 0.76478988 0.73932317 0.76461139 0.78632955\n",
      " 0.78811453 0.78234286 0.75056899 0.75253255 0.7439643  0.74015619\n",
      " 0.76782453 0.74039425 0.76437342 0.77234662 0.77300114 0.77020456\n",
      " 0.79329124 0.80626256 0.82345854 0.8056676  0.77859432 0.84368916\n",
      " 0.82940871 0.81340274 0.77996283 0.74336934 0.74039425 0.7436073\n",
      " 0.74705841 0.71950911 0.79091112 0.8077501  0.79930087 0.80977314\n",
      " 0.80233543 0.8138193  0.81721085 0.7976943  0.81060616 0.81590189\n",
      " 0.79828936 0.77514321 0.75699518 0.79781333 0.79947937 0.79650429\n",
      " 0.78948313 0.7673485  0.75562667 0.7658014  0.76288588 0.77674978\n",
      " 0.78258092 0.76913357 0.72920791 0.71736704 0.70463369 0.70421722\n",
      " 0.72296021 0.70380067 0.70159913 0.69071032 0.66696916 0.68821126\n",
      " 0.69011526 0.66119749 0.66887321 0.66089996 0.68827073 0.69142431\n",
      " 0.69487542 0.71129794 0.71082191 0.71885458 0.72587583 0.72153223\n",
      " 0.72188923 0.73735961 0.75663818 0.76508741 0.76110081 0.7735962\n",
      " 0.78531794 0.767884   0.77555967 0.78234286 0.81441435 0.83631092\n",
      " 0.7896412  0.79387236 0.79761821 0.80078191]\n",
      "4 day output [[0.80351675]]\n",
      "5 day input [0.85059129 0.8316698  0.82583866 0.8120937  0.81411682 0.82000743\n",
      " 0.80858312 0.76478988 0.73932317 0.76461139 0.78632955 0.78811453\n",
      " 0.78234286 0.75056899 0.75253255 0.7439643  0.74015619 0.76782453\n",
      " 0.74039425 0.76437342 0.77234662 0.77300114 0.77020456 0.79329124\n",
      " 0.80626256 0.82345854 0.8056676  0.77859432 0.84368916 0.82940871\n",
      " 0.81340274 0.77996283 0.74336934 0.74039425 0.7436073  0.74705841\n",
      " 0.71950911 0.79091112 0.8077501  0.79930087 0.80977314 0.80233543\n",
      " 0.8138193  0.81721085 0.7976943  0.81060616 0.81590189 0.79828936\n",
      " 0.77514321 0.75699518 0.79781333 0.79947937 0.79650429 0.78948313\n",
      " 0.7673485  0.75562667 0.7658014  0.76288588 0.77674978 0.78258092\n",
      " 0.76913357 0.72920791 0.71736704 0.70463369 0.70421722 0.72296021\n",
      " 0.70380067 0.70159913 0.69071032 0.66696916 0.68821126 0.69011526\n",
      " 0.66119749 0.66887321 0.66089996 0.68827073 0.69142431 0.69487542\n",
      " 0.71129794 0.71082191 0.71885458 0.72587583 0.72153223 0.72188923\n",
      " 0.73735961 0.75663818 0.76508741 0.76110081 0.7735962  0.78531794\n",
      " 0.767884   0.77555967 0.78234286 0.81441435 0.83631092 0.7896412\n",
      " 0.79387236 0.79761821 0.80078191 0.80351675]\n",
      "5 day output [[0.805938]]\n",
      "6 day input [0.8316698  0.82583866 0.8120937  0.81411682 0.82000743 0.80858312\n",
      " 0.76478988 0.73932317 0.76461139 0.78632955 0.78811453 0.78234286\n",
      " 0.75056899 0.75253255 0.7439643  0.74015619 0.76782453 0.74039425\n",
      " 0.76437342 0.77234662 0.77300114 0.77020456 0.79329124 0.80626256\n",
      " 0.82345854 0.8056676  0.77859432 0.84368916 0.82940871 0.81340274\n",
      " 0.77996283 0.74336934 0.74039425 0.7436073  0.74705841 0.71950911\n",
      " 0.79091112 0.8077501  0.79930087 0.80977314 0.80233543 0.8138193\n",
      " 0.81721085 0.7976943  0.81060616 0.81590189 0.79828936 0.77514321\n",
      " 0.75699518 0.79781333 0.79947937 0.79650429 0.78948313 0.7673485\n",
      " 0.75562667 0.7658014  0.76288588 0.77674978 0.78258092 0.76913357\n",
      " 0.72920791 0.71736704 0.70463369 0.70421722 0.72296021 0.70380067\n",
      " 0.70159913 0.69071032 0.66696916 0.68821126 0.69011526 0.66119749\n",
      " 0.66887321 0.66089996 0.68827073 0.69142431 0.69487542 0.71129794\n",
      " 0.71082191 0.71885458 0.72587583 0.72153223 0.72188923 0.73735961\n",
      " 0.75663818 0.76508741 0.76110081 0.7735962  0.78531794 0.767884\n",
      " 0.77555967 0.78234286 0.81441435 0.83631092 0.7896412  0.79387236\n",
      " 0.79761821 0.80078191 0.80351675 0.80593801]\n",
      "6 day output [[0.80812734]]\n",
      "7 day input [0.82583866 0.8120937  0.81411682 0.82000743 0.80858312 0.76478988\n",
      " 0.73932317 0.76461139 0.78632955 0.78811453 0.78234286 0.75056899\n",
      " 0.75253255 0.7439643  0.74015619 0.76782453 0.74039425 0.76437342\n",
      " 0.77234662 0.77300114 0.77020456 0.79329124 0.80626256 0.82345854\n",
      " 0.8056676  0.77859432 0.84368916 0.82940871 0.81340274 0.77996283\n",
      " 0.74336934 0.74039425 0.7436073  0.74705841 0.71950911 0.79091112\n",
      " 0.8077501  0.79930087 0.80977314 0.80233543 0.8138193  0.81721085\n",
      " 0.7976943  0.81060616 0.81590189 0.79828936 0.77514321 0.75699518\n",
      " 0.79781333 0.79947937 0.79650429 0.78948313 0.7673485  0.75562667\n",
      " 0.7658014  0.76288588 0.77674978 0.78258092 0.76913357 0.72920791\n",
      " 0.71736704 0.70463369 0.70421722 0.72296021 0.70380067 0.70159913\n",
      " 0.69071032 0.66696916 0.68821126 0.69011526 0.66119749 0.66887321\n",
      " 0.66089996 0.68827073 0.69142431 0.69487542 0.71129794 0.71082191\n",
      " 0.71885458 0.72587583 0.72153223 0.72188923 0.73735961 0.75663818\n",
      " 0.76508741 0.76110081 0.7735962  0.78531794 0.767884   0.77555967\n",
      " 0.78234286 0.81441435 0.83631092 0.7896412  0.79387236 0.79761821\n",
      " 0.80078191 0.80351675 0.80593801 0.80812734]\n",
      "7 day output [[0.8101432]]\n",
      "8 day input [0.8120937  0.81411682 0.82000743 0.80858312 0.76478988 0.73932317\n",
      " 0.76461139 0.78632955 0.78811453 0.78234286 0.75056899 0.75253255\n",
      " 0.7439643  0.74015619 0.76782453 0.74039425 0.76437342 0.77234662\n",
      " 0.77300114 0.77020456 0.79329124 0.80626256 0.82345854 0.8056676\n",
      " 0.77859432 0.84368916 0.82940871 0.81340274 0.77996283 0.74336934\n",
      " 0.74039425 0.7436073  0.74705841 0.71950911 0.79091112 0.8077501\n",
      " 0.79930087 0.80977314 0.80233543 0.8138193  0.81721085 0.7976943\n",
      " 0.81060616 0.81590189 0.79828936 0.77514321 0.75699518 0.79781333\n",
      " 0.79947937 0.79650429 0.78948313 0.7673485  0.75562667 0.7658014\n",
      " 0.76288588 0.77674978 0.78258092 0.76913357 0.72920791 0.71736704\n",
      " 0.70463369 0.70421722 0.72296021 0.70380067 0.70159913 0.69071032\n",
      " 0.66696916 0.68821126 0.69011526 0.66119749 0.66887321 0.66089996\n",
      " 0.68827073 0.69142431 0.69487542 0.71129794 0.71082191 0.71885458\n",
      " 0.72587583 0.72153223 0.72188923 0.73735961 0.75663818 0.76508741\n",
      " 0.76110081 0.7735962  0.78531794 0.767884   0.77555967 0.78234286\n",
      " 0.81441435 0.83631092 0.7896412  0.79387236 0.79761821 0.80078191\n",
      " 0.80351675 0.80593801 0.80812734 0.81014317]\n",
      "8 day output [[0.8120268]]\n",
      "9 day input [0.81411682 0.82000743 0.80858312 0.76478988 0.73932317 0.76461139\n",
      " 0.78632955 0.78811453 0.78234286 0.75056899 0.75253255 0.7439643\n",
      " 0.74015619 0.76782453 0.74039425 0.76437342 0.77234662 0.77300114\n",
      " 0.77020456 0.79329124 0.80626256 0.82345854 0.8056676  0.77859432\n",
      " 0.84368916 0.82940871 0.81340274 0.77996283 0.74336934 0.74039425\n",
      " 0.7436073  0.74705841 0.71950911 0.79091112 0.8077501  0.79930087\n",
      " 0.80977314 0.80233543 0.8138193  0.81721085 0.7976943  0.81060616\n",
      " 0.81590189 0.79828936 0.77514321 0.75699518 0.79781333 0.79947937\n",
      " 0.79650429 0.78948313 0.7673485  0.75562667 0.7658014  0.76288588\n",
      " 0.77674978 0.78258092 0.76913357 0.72920791 0.71736704 0.70463369\n",
      " 0.70421722 0.72296021 0.70380067 0.70159913 0.69071032 0.66696916\n",
      " 0.68821126 0.69011526 0.66119749 0.66887321 0.66089996 0.68827073\n",
      " 0.69142431 0.69487542 0.71129794 0.71082191 0.71885458 0.72587583\n",
      " 0.72153223 0.72188923 0.73735961 0.75663818 0.76508741 0.76110081\n",
      " 0.7735962  0.78531794 0.767884   0.77555967 0.78234286 0.81441435\n",
      " 0.83631092 0.7896412  0.79387236 0.79761821 0.80078191 0.80351675\n",
      " 0.80593801 0.80812734 0.81014317 0.8120268 ]\n",
      "9 day output [[0.8138086]]\n",
      "10 day input [0.82000743 0.80858312 0.76478988 0.73932317 0.76461139 0.78632955\n",
      " 0.78811453 0.78234286 0.75056899 0.75253255 0.7439643  0.74015619\n",
      " 0.76782453 0.74039425 0.76437342 0.77234662 0.77300114 0.77020456\n",
      " 0.79329124 0.80626256 0.82345854 0.8056676  0.77859432 0.84368916\n",
      " 0.82940871 0.81340274 0.77996283 0.74336934 0.74039425 0.7436073\n",
      " 0.74705841 0.71950911 0.79091112 0.8077501  0.79930087 0.80977314\n",
      " 0.80233543 0.8138193  0.81721085 0.7976943  0.81060616 0.81590189\n",
      " 0.79828936 0.77514321 0.75699518 0.79781333 0.79947937 0.79650429\n",
      " 0.78948313 0.7673485  0.75562667 0.7658014  0.76288588 0.77674978\n",
      " 0.78258092 0.76913357 0.72920791 0.71736704 0.70463369 0.70421722\n",
      " 0.72296021 0.70380067 0.70159913 0.69071032 0.66696916 0.68821126\n",
      " 0.69011526 0.66119749 0.66887321 0.66089996 0.68827073 0.69142431\n",
      " 0.69487542 0.71129794 0.71082191 0.71885458 0.72587583 0.72153223\n",
      " 0.72188923 0.73735961 0.75663818 0.76508741 0.76110081 0.7735962\n",
      " 0.78531794 0.767884   0.77555967 0.78234286 0.81441435 0.83631092\n",
      " 0.7896412  0.79387236 0.79761821 0.80078191 0.80351675 0.80593801\n",
      " 0.80812734 0.81014317 0.8120268  0.81380862]\n",
      "10 day output [[0.8155113]]\n",
      "11 day input [0.80858312 0.76478988 0.73932317 0.76461139 0.78632955 0.78811453\n",
      " 0.78234286 0.75056899 0.75253255 0.7439643  0.74015619 0.76782453\n",
      " 0.74039425 0.76437342 0.77234662 0.77300114 0.77020456 0.79329124\n",
      " 0.80626256 0.82345854 0.8056676  0.77859432 0.84368916 0.82940871\n",
      " 0.81340274 0.77996283 0.74336934 0.74039425 0.7436073  0.74705841\n",
      " 0.71950911 0.79091112 0.8077501  0.79930087 0.80977314 0.80233543\n",
      " 0.8138193  0.81721085 0.7976943  0.81060616 0.81590189 0.79828936\n",
      " 0.77514321 0.75699518 0.79781333 0.79947937 0.79650429 0.78948313\n",
      " 0.7673485  0.75562667 0.7658014  0.76288588 0.77674978 0.78258092\n",
      " 0.76913357 0.72920791 0.71736704 0.70463369 0.70421722 0.72296021\n",
      " 0.70380067 0.70159913 0.69071032 0.66696916 0.68821126 0.69011526\n",
      " 0.66119749 0.66887321 0.66089996 0.68827073 0.69142431 0.69487542\n",
      " 0.71129794 0.71082191 0.71885458 0.72587583 0.72153223 0.72188923\n",
      " 0.73735961 0.75663818 0.76508741 0.76110081 0.7735962  0.78531794\n",
      " 0.767884   0.77555967 0.78234286 0.81441435 0.83631092 0.7896412\n",
      " 0.79387236 0.79761821 0.80078191 0.80351675 0.80593801 0.80812734\n",
      " 0.81014317 0.8120268  0.81380862 0.81551129]\n",
      "11 day output [[0.81715125]]\n",
      "12 day input [0.76478988 0.73932317 0.76461139 0.78632955 0.78811453 0.78234286\n",
      " 0.75056899 0.75253255 0.7439643  0.74015619 0.76782453 0.74039425\n",
      " 0.76437342 0.77234662 0.77300114 0.77020456 0.79329124 0.80626256\n",
      " 0.82345854 0.8056676  0.77859432 0.84368916 0.82940871 0.81340274\n",
      " 0.77996283 0.74336934 0.74039425 0.7436073  0.74705841 0.71950911\n",
      " 0.79091112 0.8077501  0.79930087 0.80977314 0.80233543 0.8138193\n",
      " 0.81721085 0.7976943  0.81060616 0.81590189 0.79828936 0.77514321\n",
      " 0.75699518 0.79781333 0.79947937 0.79650429 0.78948313 0.7673485\n",
      " 0.75562667 0.7658014  0.76288588 0.77674978 0.78258092 0.76913357\n",
      " 0.72920791 0.71736704 0.70463369 0.70421722 0.72296021 0.70380067\n",
      " 0.70159913 0.69071032 0.66696916 0.68821126 0.69011526 0.66119749\n",
      " 0.66887321 0.66089996 0.68827073 0.69142431 0.69487542 0.71129794\n",
      " 0.71082191 0.71885458 0.72587583 0.72153223 0.72188923 0.73735961\n",
      " 0.75663818 0.76508741 0.76110081 0.7735962  0.78531794 0.767884\n",
      " 0.77555967 0.78234286 0.81441435 0.83631092 0.7896412  0.79387236\n",
      " 0.79761821 0.80078191 0.80351675 0.80593801 0.80812734 0.81014317\n",
      " 0.8120268  0.81380862 0.81551129 0.81715125]\n",
      "12 day output [[0.81874067]]\n",
      "13 day input [0.73932317 0.76461139 0.78632955 0.78811453 0.78234286 0.75056899\n",
      " 0.75253255 0.7439643  0.74015619 0.76782453 0.74039425 0.76437342\n",
      " 0.77234662 0.77300114 0.77020456 0.79329124 0.80626256 0.82345854\n",
      " 0.8056676  0.77859432 0.84368916 0.82940871 0.81340274 0.77996283\n",
      " 0.74336934 0.74039425 0.7436073  0.74705841 0.71950911 0.79091112\n",
      " 0.8077501  0.79930087 0.80977314 0.80233543 0.8138193  0.81721085\n",
      " 0.7976943  0.81060616 0.81590189 0.79828936 0.77514321 0.75699518\n",
      " 0.79781333 0.79947937 0.79650429 0.78948313 0.7673485  0.75562667\n",
      " 0.7658014  0.76288588 0.77674978 0.78258092 0.76913357 0.72920791\n",
      " 0.71736704 0.70463369 0.70421722 0.72296021 0.70380067 0.70159913\n",
      " 0.69071032 0.66696916 0.68821126 0.69011526 0.66119749 0.66887321\n",
      " 0.66089996 0.68827073 0.69142431 0.69487542 0.71129794 0.71082191\n",
      " 0.71885458 0.72587583 0.72153223 0.72188923 0.73735961 0.75663818\n",
      " 0.76508741 0.76110081 0.7735962  0.78531794 0.767884   0.77555967\n",
      " 0.78234286 0.81441435 0.83631092 0.7896412  0.79387236 0.79761821\n",
      " 0.80078191 0.80351675 0.80593801 0.80812734 0.81014317 0.8120268\n",
      " 0.81380862 0.81551129 0.81715125 0.81874067]\n",
      "13 day output [[0.8202891]]\n",
      "14 day input [0.76461139 0.78632955 0.78811453 0.78234286 0.75056899 0.75253255\n",
      " 0.7439643  0.74015619 0.76782453 0.74039425 0.76437342 0.77234662\n",
      " 0.77300114 0.77020456 0.79329124 0.80626256 0.82345854 0.8056676\n",
      " 0.77859432 0.84368916 0.82940871 0.81340274 0.77996283 0.74336934\n",
      " 0.74039425 0.7436073  0.74705841 0.71950911 0.79091112 0.8077501\n",
      " 0.79930087 0.80977314 0.80233543 0.8138193  0.81721085 0.7976943\n",
      " 0.81060616 0.81590189 0.79828936 0.77514321 0.75699518 0.79781333\n",
      " 0.79947937 0.79650429 0.78948313 0.7673485  0.75562667 0.7658014\n",
      " 0.76288588 0.77674978 0.78258092 0.76913357 0.72920791 0.71736704\n",
      " 0.70463369 0.70421722 0.72296021 0.70380067 0.70159913 0.69071032\n",
      " 0.66696916 0.68821126 0.69011526 0.66119749 0.66887321 0.66089996\n",
      " 0.68827073 0.69142431 0.69487542 0.71129794 0.71082191 0.71885458\n",
      " 0.72587583 0.72153223 0.72188923 0.73735961 0.75663818 0.76508741\n",
      " 0.76110081 0.7735962  0.78531794 0.767884   0.77555967 0.78234286\n",
      " 0.81441435 0.83631092 0.7896412  0.79387236 0.79761821 0.80078191\n",
      " 0.80351675 0.80593801 0.80812734 0.81014317 0.8120268  0.81380862\n",
      " 0.81551129 0.81715125 0.81874067 0.82028908]\n",
      "14 day output [[0.8218037]]\n",
      "15 day input [0.78632955 0.78811453 0.78234286 0.75056899 0.75253255 0.7439643\n",
      " 0.74015619 0.76782453 0.74039425 0.76437342 0.77234662 0.77300114\n",
      " 0.77020456 0.79329124 0.80626256 0.82345854 0.8056676  0.77859432\n",
      " 0.84368916 0.82940871 0.81340274 0.77996283 0.74336934 0.74039425\n",
      " 0.7436073  0.74705841 0.71950911 0.79091112 0.8077501  0.79930087\n",
      " 0.80977314 0.80233543 0.8138193  0.81721085 0.7976943  0.81060616\n",
      " 0.81590189 0.79828936 0.77514321 0.75699518 0.79781333 0.79947937\n",
      " 0.79650429 0.78948313 0.7673485  0.75562667 0.7658014  0.76288588\n",
      " 0.77674978 0.78258092 0.76913357 0.72920791 0.71736704 0.70463369\n",
      " 0.70421722 0.72296021 0.70380067 0.70159913 0.69071032 0.66696916\n",
      " 0.68821126 0.69011526 0.66119749 0.66887321 0.66089996 0.68827073\n",
      " 0.69142431 0.69487542 0.71129794 0.71082191 0.71885458 0.72587583\n",
      " 0.72153223 0.72188923 0.73735961 0.75663818 0.76508741 0.76110081\n",
      " 0.7735962  0.78531794 0.767884   0.77555967 0.78234286 0.81441435\n",
      " 0.83631092 0.7896412  0.79387236 0.79761821 0.80078191 0.80351675\n",
      " 0.80593801 0.80812734 0.81014317 0.8120268  0.81380862 0.81551129\n",
      " 0.81715125 0.81874067 0.82028908 0.82180369]\n",
      "15 day output [[0.8232899]]\n",
      "16 day input [0.78811453 0.78234286 0.75056899 0.75253255 0.7439643  0.74015619\n",
      " 0.76782453 0.74039425 0.76437342 0.77234662 0.77300114 0.77020456\n",
      " 0.79329124 0.80626256 0.82345854 0.8056676  0.77859432 0.84368916\n",
      " 0.82940871 0.81340274 0.77996283 0.74336934 0.74039425 0.7436073\n",
      " 0.74705841 0.71950911 0.79091112 0.8077501  0.79930087 0.80977314\n",
      " 0.80233543 0.8138193  0.81721085 0.7976943  0.81060616 0.81590189\n",
      " 0.79828936 0.77514321 0.75699518 0.79781333 0.79947937 0.79650429\n",
      " 0.78948313 0.7673485  0.75562667 0.7658014  0.76288588 0.77674978\n",
      " 0.78258092 0.76913357 0.72920791 0.71736704 0.70463369 0.70421722\n",
      " 0.72296021 0.70380067 0.70159913 0.69071032 0.66696916 0.68821126\n",
      " 0.69011526 0.66119749 0.66887321 0.66089996 0.68827073 0.69142431\n",
      " 0.69487542 0.71129794 0.71082191 0.71885458 0.72587583 0.72153223\n",
      " 0.72188923 0.73735961 0.75663818 0.76508741 0.76110081 0.7735962\n",
      " 0.78531794 0.767884   0.77555967 0.78234286 0.81441435 0.83631092\n",
      " 0.7896412  0.79387236 0.79761821 0.80078191 0.80351675 0.80593801\n",
      " 0.80812734 0.81014317 0.8120268  0.81380862 0.81551129 0.81715125\n",
      " 0.81874067 0.82028908 0.82180369 0.82328987]\n",
      "16 day output [[0.8247519]]\n",
      "17 day input [0.78234286 0.75056899 0.75253255 0.7439643  0.74015619 0.76782453\n",
      " 0.74039425 0.76437342 0.77234662 0.77300114 0.77020456 0.79329124\n",
      " 0.80626256 0.82345854 0.8056676  0.77859432 0.84368916 0.82940871\n",
      " 0.81340274 0.77996283 0.74336934 0.74039425 0.7436073  0.74705841\n",
      " 0.71950911 0.79091112 0.8077501  0.79930087 0.80977314 0.80233543\n",
      " 0.8138193  0.81721085 0.7976943  0.81060616 0.81590189 0.79828936\n",
      " 0.77514321 0.75699518 0.79781333 0.79947937 0.79650429 0.78948313\n",
      " 0.7673485  0.75562667 0.7658014  0.76288588 0.77674978 0.78258092\n",
      " 0.76913357 0.72920791 0.71736704 0.70463369 0.70421722 0.72296021\n",
      " 0.70380067 0.70159913 0.69071032 0.66696916 0.68821126 0.69011526\n",
      " 0.66119749 0.66887321 0.66089996 0.68827073 0.69142431 0.69487542\n",
      " 0.71129794 0.71082191 0.71885458 0.72587583 0.72153223 0.72188923\n",
      " 0.73735961 0.75663818 0.76508741 0.76110081 0.7735962  0.78531794\n",
      " 0.767884   0.77555967 0.78234286 0.81441435 0.83631092 0.7896412\n",
      " 0.79387236 0.79761821 0.80078191 0.80351675 0.80593801 0.80812734\n",
      " 0.81014317 0.8120268  0.81380862 0.81551129 0.81715125 0.81874067\n",
      " 0.82028908 0.82180369 0.82328987 0.82475191]\n",
      "17 day output [[0.8261932]]\n",
      "18 day input [0.75056899 0.75253255 0.7439643  0.74015619 0.76782453 0.74039425\n",
      " 0.76437342 0.77234662 0.77300114 0.77020456 0.79329124 0.80626256\n",
      " 0.82345854 0.8056676  0.77859432 0.84368916 0.82940871 0.81340274\n",
      " 0.77996283 0.74336934 0.74039425 0.7436073  0.74705841 0.71950911\n",
      " 0.79091112 0.8077501  0.79930087 0.80977314 0.80233543 0.8138193\n",
      " 0.81721085 0.7976943  0.81060616 0.81590189 0.79828936 0.77514321\n",
      " 0.75699518 0.79781333 0.79947937 0.79650429 0.78948313 0.7673485\n",
      " 0.75562667 0.7658014  0.76288588 0.77674978 0.78258092 0.76913357\n",
      " 0.72920791 0.71736704 0.70463369 0.70421722 0.72296021 0.70380067\n",
      " 0.70159913 0.69071032 0.66696916 0.68821126 0.69011526 0.66119749\n",
      " 0.66887321 0.66089996 0.68827073 0.69142431 0.69487542 0.71129794\n",
      " 0.71082191 0.71885458 0.72587583 0.72153223 0.72188923 0.73735961\n",
      " 0.75663818 0.76508741 0.76110081 0.7735962  0.78531794 0.767884\n",
      " 0.77555967 0.78234286 0.81441435 0.83631092 0.7896412  0.79387236\n",
      " 0.79761821 0.80078191 0.80351675 0.80593801 0.80812734 0.81014317\n",
      " 0.8120268  0.81380862 0.81551129 0.81715125 0.81874067 0.82028908\n",
      " 0.82180369 0.82328987 0.82475191 0.82619321]\n",
      "18 day output [[0.8276166]]\n",
      "19 day input [0.75253255 0.7439643  0.74015619 0.76782453 0.74039425 0.76437342\n",
      " 0.77234662 0.77300114 0.77020456 0.79329124 0.80626256 0.82345854\n",
      " 0.8056676  0.77859432 0.84368916 0.82940871 0.81340274 0.77996283\n",
      " 0.74336934 0.74039425 0.7436073  0.74705841 0.71950911 0.79091112\n",
      " 0.8077501  0.79930087 0.80977314 0.80233543 0.8138193  0.81721085\n",
      " 0.7976943  0.81060616 0.81590189 0.79828936 0.77514321 0.75699518\n",
      " 0.79781333 0.79947937 0.79650429 0.78948313 0.7673485  0.75562667\n",
      " 0.7658014  0.76288588 0.77674978 0.78258092 0.76913357 0.72920791\n",
      " 0.71736704 0.70463369 0.70421722 0.72296021 0.70380067 0.70159913\n",
      " 0.69071032 0.66696916 0.68821126 0.69011526 0.66119749 0.66887321\n",
      " 0.66089996 0.68827073 0.69142431 0.69487542 0.71129794 0.71082191\n",
      " 0.71885458 0.72587583 0.72153223 0.72188923 0.73735961 0.75663818\n",
      " 0.76508741 0.76110081 0.7735962  0.78531794 0.767884   0.77555967\n",
      " 0.78234286 0.81441435 0.83631092 0.7896412  0.79387236 0.79761821\n",
      " 0.80078191 0.80351675 0.80593801 0.80812734 0.81014317 0.8120268\n",
      " 0.81380862 0.81551129 0.81715125 0.81874067 0.82028908 0.82180369\n",
      " 0.82328987 0.82475191 0.82619321 0.82761657]\n",
      "19 day output [[0.8290239]]\n",
      "20 day input [0.7439643  0.74015619 0.76782453 0.74039425 0.76437342 0.77234662\n",
      " 0.77300114 0.77020456 0.79329124 0.80626256 0.82345854 0.8056676\n",
      " 0.77859432 0.84368916 0.82940871 0.81340274 0.77996283 0.74336934\n",
      " 0.74039425 0.7436073  0.74705841 0.71950911 0.79091112 0.8077501\n",
      " 0.79930087 0.80977314 0.80233543 0.8138193  0.81721085 0.7976943\n",
      " 0.81060616 0.81590189 0.79828936 0.77514321 0.75699518 0.79781333\n",
      " 0.79947937 0.79650429 0.78948313 0.7673485  0.75562667 0.7658014\n",
      " 0.76288588 0.77674978 0.78258092 0.76913357 0.72920791 0.71736704\n",
      " 0.70463369 0.70421722 0.72296021 0.70380067 0.70159913 0.69071032\n",
      " 0.66696916 0.68821126 0.69011526 0.66119749 0.66887321 0.66089996\n",
      " 0.68827073 0.69142431 0.69487542 0.71129794 0.71082191 0.71885458\n",
      " 0.72587583 0.72153223 0.72188923 0.73735961 0.75663818 0.76508741\n",
      " 0.76110081 0.7735962  0.78531794 0.767884   0.77555967 0.78234286\n",
      " 0.81441435 0.83631092 0.7896412  0.79387236 0.79761821 0.80078191\n",
      " 0.80351675 0.80593801 0.80812734 0.81014317 0.8120268  0.81380862\n",
      " 0.81551129 0.81715125 0.81874067 0.82028908 0.82180369 0.82328987\n",
      " 0.82475191 0.82619321 0.82761657 0.8290239 ]\n",
      "20 day output [[0.83041716]]\n",
      "21 day input [0.74015619 0.76782453 0.74039425 0.76437342 0.77234662 0.77300114\n",
      " 0.77020456 0.79329124 0.80626256 0.82345854 0.8056676  0.77859432\n",
      " 0.84368916 0.82940871 0.81340274 0.77996283 0.74336934 0.74039425\n",
      " 0.7436073  0.74705841 0.71950911 0.79091112 0.8077501  0.79930087\n",
      " 0.80977314 0.80233543 0.8138193  0.81721085 0.7976943  0.81060616\n",
      " 0.81590189 0.79828936 0.77514321 0.75699518 0.79781333 0.79947937\n",
      " 0.79650429 0.78948313 0.7673485  0.75562667 0.7658014  0.76288588\n",
      " 0.77674978 0.78258092 0.76913357 0.72920791 0.71736704 0.70463369\n",
      " 0.70421722 0.72296021 0.70380067 0.70159913 0.69071032 0.66696916\n",
      " 0.68821126 0.69011526 0.66119749 0.66887321 0.66089996 0.68827073\n",
      " 0.69142431 0.69487542 0.71129794 0.71082191 0.71885458 0.72587583\n",
      " 0.72153223 0.72188923 0.73735961 0.75663818 0.76508741 0.76110081\n",
      " 0.7735962  0.78531794 0.767884   0.77555967 0.78234286 0.81441435\n",
      " 0.83631092 0.7896412  0.79387236 0.79761821 0.80078191 0.80351675\n",
      " 0.80593801 0.80812734 0.81014317 0.8120268  0.81380862 0.81551129\n",
      " 0.81715125 0.81874067 0.82028908 0.82180369 0.82328987 0.82475191\n",
      " 0.82619321 0.82761657 0.8290239  0.83041716]\n",
      "21 day output [[0.8317974]]\n",
      "22 day input [0.76782453 0.74039425 0.76437342 0.77234662 0.77300114 0.77020456\n",
      " 0.79329124 0.80626256 0.82345854 0.8056676  0.77859432 0.84368916\n",
      " 0.82940871 0.81340274 0.77996283 0.74336934 0.74039425 0.7436073\n",
      " 0.74705841 0.71950911 0.79091112 0.8077501  0.79930087 0.80977314\n",
      " 0.80233543 0.8138193  0.81721085 0.7976943  0.81060616 0.81590189\n",
      " 0.79828936 0.77514321 0.75699518 0.79781333 0.79947937 0.79650429\n",
      " 0.78948313 0.7673485  0.75562667 0.7658014  0.76288588 0.77674978\n",
      " 0.78258092 0.76913357 0.72920791 0.71736704 0.70463369 0.70421722\n",
      " 0.72296021 0.70380067 0.70159913 0.69071032 0.66696916 0.68821126\n",
      " 0.69011526 0.66119749 0.66887321 0.66089996 0.68827073 0.69142431\n",
      " 0.69487542 0.71129794 0.71082191 0.71885458 0.72587583 0.72153223\n",
      " 0.72188923 0.73735961 0.75663818 0.76508741 0.76110081 0.7735962\n",
      " 0.78531794 0.767884   0.77555967 0.78234286 0.81441435 0.83631092\n",
      " 0.7896412  0.79387236 0.79761821 0.80078191 0.80351675 0.80593801\n",
      " 0.80812734 0.81014317 0.8120268  0.81380862 0.81551129 0.81715125\n",
      " 0.81874067 0.82028908 0.82180369 0.82328987 0.82475191 0.82619321\n",
      " 0.82761657 0.8290239  0.83041716 0.83179742]\n",
      "22 day output [[0.83316594]]\n",
      "23 day input [0.74039425 0.76437342 0.77234662 0.77300114 0.77020456 0.79329124\n",
      " 0.80626256 0.82345854 0.8056676  0.77859432 0.84368916 0.82940871\n",
      " 0.81340274 0.77996283 0.74336934 0.74039425 0.7436073  0.74705841\n",
      " 0.71950911 0.79091112 0.8077501  0.79930087 0.80977314 0.80233543\n",
      " 0.8138193  0.81721085 0.7976943  0.81060616 0.81590189 0.79828936\n",
      " 0.77514321 0.75699518 0.79781333 0.79947937 0.79650429 0.78948313\n",
      " 0.7673485  0.75562667 0.7658014  0.76288588 0.77674978 0.78258092\n",
      " 0.76913357 0.72920791 0.71736704 0.70463369 0.70421722 0.72296021\n",
      " 0.70380067 0.70159913 0.69071032 0.66696916 0.68821126 0.69011526\n",
      " 0.66119749 0.66887321 0.66089996 0.68827073 0.69142431 0.69487542\n",
      " 0.71129794 0.71082191 0.71885458 0.72587583 0.72153223 0.72188923\n",
      " 0.73735961 0.75663818 0.76508741 0.76110081 0.7735962  0.78531794\n",
      " 0.767884   0.77555967 0.78234286 0.81441435 0.83631092 0.7896412\n",
      " 0.79387236 0.79761821 0.80078191 0.80351675 0.80593801 0.80812734\n",
      " 0.81014317 0.8120268  0.81380862 0.81551129 0.81715125 0.81874067\n",
      " 0.82028908 0.82180369 0.82328987 0.82475191 0.82619321 0.82761657\n",
      " 0.8290239  0.83041716 0.83179742 0.83316594]\n",
      "23 day output [[0.83452374]]\n",
      "24 day input [0.76437342 0.77234662 0.77300114 0.77020456 0.79329124 0.80626256\n",
      " 0.82345854 0.8056676  0.77859432 0.84368916 0.82940871 0.81340274\n",
      " 0.77996283 0.74336934 0.74039425 0.7436073  0.74705841 0.71950911\n",
      " 0.79091112 0.8077501  0.79930087 0.80977314 0.80233543 0.8138193\n",
      " 0.81721085 0.7976943  0.81060616 0.81590189 0.79828936 0.77514321\n",
      " 0.75699518 0.79781333 0.79947937 0.79650429 0.78948313 0.7673485\n",
      " 0.75562667 0.7658014  0.76288588 0.77674978 0.78258092 0.76913357\n",
      " 0.72920791 0.71736704 0.70463369 0.70421722 0.72296021 0.70380067\n",
      " 0.70159913 0.69071032 0.66696916 0.68821126 0.69011526 0.66119749\n",
      " 0.66887321 0.66089996 0.68827073 0.69142431 0.69487542 0.71129794\n",
      " 0.71082191 0.71885458 0.72587583 0.72153223 0.72188923 0.73735961\n",
      " 0.75663818 0.76508741 0.76110081 0.7735962  0.78531794 0.767884\n",
      " 0.77555967 0.78234286 0.81441435 0.83631092 0.7896412  0.79387236\n",
      " 0.79761821 0.80078191 0.80351675 0.80593801 0.80812734 0.81014317\n",
      " 0.8120268  0.81380862 0.81551129 0.81715125 0.81874067 0.82028908\n",
      " 0.82180369 0.82328987 0.82475191 0.82619321 0.82761657 0.8290239\n",
      " 0.83041716 0.83179742 0.83316594 0.83452374]\n",
      "24 day output [[0.8358712]]\n",
      "25 day input [0.77234662 0.77300114 0.77020456 0.79329124 0.80626256 0.82345854\n",
      " 0.8056676  0.77859432 0.84368916 0.82940871 0.81340274 0.77996283\n",
      " 0.74336934 0.74039425 0.7436073  0.74705841 0.71950911 0.79091112\n",
      " 0.8077501  0.79930087 0.80977314 0.80233543 0.8138193  0.81721085\n",
      " 0.7976943  0.81060616 0.81590189 0.79828936 0.77514321 0.75699518\n",
      " 0.79781333 0.79947937 0.79650429 0.78948313 0.7673485  0.75562667\n",
      " 0.7658014  0.76288588 0.77674978 0.78258092 0.76913357 0.72920791\n",
      " 0.71736704 0.70463369 0.70421722 0.72296021 0.70380067 0.70159913\n",
      " 0.69071032 0.66696916 0.68821126 0.69011526 0.66119749 0.66887321\n",
      " 0.66089996 0.68827073 0.69142431 0.69487542 0.71129794 0.71082191\n",
      " 0.71885458 0.72587583 0.72153223 0.72188923 0.73735961 0.75663818\n",
      " 0.76508741 0.76110081 0.7735962  0.78531794 0.767884   0.77555967\n",
      " 0.78234286 0.81441435 0.83631092 0.7896412  0.79387236 0.79761821\n",
      " 0.80078191 0.80351675 0.80593801 0.80812734 0.81014317 0.8120268\n",
      " 0.81380862 0.81551129 0.81715125 0.81874067 0.82028908 0.82180369\n",
      " 0.82328987 0.82475191 0.82619321 0.82761657 0.8290239  0.83041716\n",
      " 0.83179742 0.83316594 0.83452374 0.83587122]\n",
      "25 day output [[0.8372092]]\n",
      "26 day input [0.77300114 0.77020456 0.79329124 0.80626256 0.82345854 0.8056676\n",
      " 0.77859432 0.84368916 0.82940871 0.81340274 0.77996283 0.74336934\n",
      " 0.74039425 0.7436073  0.74705841 0.71950911 0.79091112 0.8077501\n",
      " 0.79930087 0.80977314 0.80233543 0.8138193  0.81721085 0.7976943\n",
      " 0.81060616 0.81590189 0.79828936 0.77514321 0.75699518 0.79781333\n",
      " 0.79947937 0.79650429 0.78948313 0.7673485  0.75562667 0.7658014\n",
      " 0.76288588 0.77674978 0.78258092 0.76913357 0.72920791 0.71736704\n",
      " 0.70463369 0.70421722 0.72296021 0.70380067 0.70159913 0.69071032\n",
      " 0.66696916 0.68821126 0.69011526 0.66119749 0.66887321 0.66089996\n",
      " 0.68827073 0.69142431 0.69487542 0.71129794 0.71082191 0.71885458\n",
      " 0.72587583 0.72153223 0.72188923 0.73735961 0.75663818 0.76508741\n",
      " 0.76110081 0.7735962  0.78531794 0.767884   0.77555967 0.78234286\n",
      " 0.81441435 0.83631092 0.7896412  0.79387236 0.79761821 0.80078191\n",
      " 0.80351675 0.80593801 0.80812734 0.81014317 0.8120268  0.81380862\n",
      " 0.81551129 0.81715125 0.81874067 0.82028908 0.82180369 0.82328987\n",
      " 0.82475191 0.82619321 0.82761657 0.8290239  0.83041716 0.83179742\n",
      " 0.83316594 0.83452374 0.83587122 0.83720922]\n",
      "26 day output [[0.8385383]]\n",
      "27 day input [0.77020456 0.79329124 0.80626256 0.82345854 0.8056676  0.77859432\n",
      " 0.84368916 0.82940871 0.81340274 0.77996283 0.74336934 0.74039425\n",
      " 0.7436073  0.74705841 0.71950911 0.79091112 0.8077501  0.79930087\n",
      " 0.80977314 0.80233543 0.8138193  0.81721085 0.7976943  0.81060616\n",
      " 0.81590189 0.79828936 0.77514321 0.75699518 0.79781333 0.79947937\n",
      " 0.79650429 0.78948313 0.7673485  0.75562667 0.7658014  0.76288588\n",
      " 0.77674978 0.78258092 0.76913357 0.72920791 0.71736704 0.70463369\n",
      " 0.70421722 0.72296021 0.70380067 0.70159913 0.69071032 0.66696916\n",
      " 0.68821126 0.69011526 0.66119749 0.66887321 0.66089996 0.68827073\n",
      " 0.69142431 0.69487542 0.71129794 0.71082191 0.71885458 0.72587583\n",
      " 0.72153223 0.72188923 0.73735961 0.75663818 0.76508741 0.76110081\n",
      " 0.7735962  0.78531794 0.767884   0.77555967 0.78234286 0.81441435\n",
      " 0.83631092 0.7896412  0.79387236 0.79761821 0.80078191 0.80351675\n",
      " 0.80593801 0.80812734 0.81014317 0.8120268  0.81380862 0.81551129\n",
      " 0.81715125 0.81874067 0.82028908 0.82180369 0.82328987 0.82475191\n",
      " 0.82619321 0.82761657 0.8290239  0.83041716 0.83179742 0.83316594\n",
      " 0.83452374 0.83587122 0.83720922 0.83853829]\n",
      "27 day output [[0.83985853]]\n",
      "28 day input [0.79329124 0.80626256 0.82345854 0.8056676  0.77859432 0.84368916\n",
      " 0.82940871 0.81340274 0.77996283 0.74336934 0.74039425 0.7436073\n",
      " 0.74705841 0.71950911 0.79091112 0.8077501  0.79930087 0.80977314\n",
      " 0.80233543 0.8138193  0.81721085 0.7976943  0.81060616 0.81590189\n",
      " 0.79828936 0.77514321 0.75699518 0.79781333 0.79947937 0.79650429\n",
      " 0.78948313 0.7673485  0.75562667 0.7658014  0.76288588 0.77674978\n",
      " 0.78258092 0.76913357 0.72920791 0.71736704 0.70463369 0.70421722\n",
      " 0.72296021 0.70380067 0.70159913 0.69071032 0.66696916 0.68821126\n",
      " 0.69011526 0.66119749 0.66887321 0.66089996 0.68827073 0.69142431\n",
      " 0.69487542 0.71129794 0.71082191 0.71885458 0.72587583 0.72153223\n",
      " 0.72188923 0.73735961 0.75663818 0.76508741 0.76110081 0.7735962\n",
      " 0.78531794 0.767884   0.77555967 0.78234286 0.81441435 0.83631092\n",
      " 0.7896412  0.79387236 0.79761821 0.80078191 0.80351675 0.80593801\n",
      " 0.80812734 0.81014317 0.8120268  0.81380862 0.81551129 0.81715125\n",
      " 0.81874067 0.82028908 0.82180369 0.82328987 0.82475191 0.82619321\n",
      " 0.82761657 0.8290239  0.83041716 0.83179742 0.83316594 0.83452374\n",
      " 0.83587122 0.83720922 0.83853829 0.83985853]\n",
      "28 day output [[0.84117043]]\n",
      "29 day input [0.80626256 0.82345854 0.8056676  0.77859432 0.84368916 0.82940871\n",
      " 0.81340274 0.77996283 0.74336934 0.74039425 0.7436073  0.74705841\n",
      " 0.71950911 0.79091112 0.8077501  0.79930087 0.80977314 0.80233543\n",
      " 0.8138193  0.81721085 0.7976943  0.81060616 0.81590189 0.79828936\n",
      " 0.77514321 0.75699518 0.79781333 0.79947937 0.79650429 0.78948313\n",
      " 0.7673485  0.75562667 0.7658014  0.76288588 0.77674978 0.78258092\n",
      " 0.76913357 0.72920791 0.71736704 0.70463369 0.70421722 0.72296021\n",
      " 0.70380067 0.70159913 0.69071032 0.66696916 0.68821126 0.69011526\n",
      " 0.66119749 0.66887321 0.66089996 0.68827073 0.69142431 0.69487542\n",
      " 0.71129794 0.71082191 0.71885458 0.72587583 0.72153223 0.72188923\n",
      " 0.73735961 0.75663818 0.76508741 0.76110081 0.7735962  0.78531794\n",
      " 0.767884   0.77555967 0.78234286 0.81441435 0.83631092 0.7896412\n",
      " 0.79387236 0.79761821 0.80078191 0.80351675 0.80593801 0.80812734\n",
      " 0.81014317 0.8120268  0.81380862 0.81551129 0.81715125 0.81874067\n",
      " 0.82028908 0.82180369 0.82328987 0.82475191 0.82619321 0.82761657\n",
      " 0.8290239  0.83041716 0.83179742 0.83316594 0.83452374 0.83587122\n",
      " 0.83720922 0.83853829 0.83985853 0.84117043]\n",
      "29 day output [[0.84247416]]\n",
      "[[0.7896412014961243], [0.7938723564147949], [0.7976182103157043], [0.8007819056510925], [0.8035167455673218], [0.8059380054473877], [0.8081273436546326], [0.8101431727409363], [0.8120267987251282], [0.8138086199760437], [0.8155112862586975], [0.8171512484550476], [0.8187406659126282], [0.8202890753746033], [0.8218036890029907], [0.8232898712158203], [0.8247519135475159], [0.8261932134628296], [0.8276165723800659], [0.8290238976478577], [0.8304171562194824], [0.8317974209785461], [0.8331659436225891], [0.8345237374305725], [0.8358712196350098], [0.8372092247009277], [0.8385382890701294], [0.8398585319519043], [0.8411704301834106], [0.8424741625785828]]\n"
     ]
    }
   ],
   "source": [
    "# demonstrate prediction for next 10 days\n",
    "from numpy import array\n",
    "\n",
    "lst_output=[]\n",
    "n_steps=100\n",
    "i=0\n",
    "while(i<30):\n",
    "    \n",
    "    if(len(temp_input)>100):\n",
    "        #print(temp_input)\n",
    "        x_input=np.array(temp_input[1:])\n",
    "        print(\"{} day input {}\".format(i,x_input))\n",
    "        x_input=x_input.reshape(1,-1)\n",
    "        x_input = x_input.reshape((1, n_steps, 1))\n",
    "        #print(x_input)\n",
    "        yhat = model.predict(x_input, verbose=0)\n",
    "        print(\"{} day output {}\".format(i,yhat))\n",
    "        temp_input.extend(yhat[0].tolist())\n",
    "        temp_input=temp_input[1:]\n",
    "        #print(temp_input)\n",
    "        lst_output.extend(yhat.tolist())\n",
    "        i=i+1\n",
    "    else:\n",
    "        x_input = x_input.reshape((1, n_steps,1))\n",
    "        yhat = model.predict(x_input, verbose=0)\n",
    "        print(yhat[0])\n",
    "        temp_input.extend(yhat[0].tolist())\n",
    "        print(len(temp_input))\n",
    "        lst_output.extend(yhat.tolist())\n",
    "        i=i+1\n",
    "    \n",
    "\n",
    "print(lst_output)"
   ]
  },
  {
   "cell_type": "code",
   "execution_count": 229,
   "metadata": {},
   "outputs": [],
   "source": [
    "day_new=np.arange(1,101)\n",
    "day_pred=np.arange(101,131)"
   ]
  },
  {
   "cell_type": "code",
   "execution_count": 230,
   "metadata": {},
   "outputs": [],
   "source": [
    "import matplotlib.pyplot as plt"
   ]
  },
  {
   "cell_type": "code",
   "execution_count": 231,
   "metadata": {},
   "outputs": [
    {
     "data": {
      "text/plain": [
       "2791"
      ]
     },
     "execution_count": 231,
     "metadata": {},
     "output_type": "execute_result"
    }
   ],
   "source": [
    "len(df1)"
   ]
  },
  {
   "cell_type": "code",
   "execution_count": null,
   "metadata": {},
   "outputs": [],
   "source": []
  },
  {
   "cell_type": "code",
   "execution_count": 232,
   "metadata": {},
   "outputs": [
    {
     "data": {
      "text/plain": [
       "[<matplotlib.lines.Line2D at 0x1bac171ec10>]"
      ]
     },
     "execution_count": 232,
     "metadata": {},
     "output_type": "execute_result"
    },
    {
     "data": {
      "image/png": "[encoded data removed]",
      "text/plain": [
       "<Figure size 640x480 with 1 Axes>"
      ]
     },
     "metadata": {},
     "output_type": "display_data"
    }
   ],
   "source": [
    "plt.plot(day_new,scaler.inverse_transform(df1[len(df1)-100:]))\n",
    "plt.plot(day_pred,scaler.inverse_transform(lst_output))"
   ]
  },
  {
   "cell_type": "code",
   "execution_count": 233,
   "metadata": {},
   "outputs": [
    {
     "data": {
      "text/plain": [
       "[<matplotlib.lines.Line2D at 0x1bac1633a60>]"
      ]
     },
     "execution_count": 233,
     "metadata": {},
     "output_type": "execute_result"
    },
    {
     "data": {
      "image/png": "[encoded data removed]",
      "text/plain": [
       "<Figure size 640x480 with 1 Axes>"
      ]
     },
     "metadata": {},
     "output_type": "display_data"
    }
   ],
   "source": [
    "df3=df1.tolist()\n",
    "df3.extend(lst_output)\n",
    "plt.plot(df3[2200:])"
   ]
  },
  {
   "cell_type": "code",
   "execution_count": 234,
   "metadata": {},
   "outputs": [],
   "source": [
    "df3=scaler.inverse_transform(df3).tolist()"
   ]
  },
  {
   "cell_type": "code",
   "execution_count": 235,
   "metadata": {},
   "outputs": [
    {
     "data": {
      "text/plain": [
       "[<matplotlib.lines.Line2D at 0x1bac1755880>]"
      ]
     },
     "execution_count": 235,
     "metadata": {},
     "output_type": "execute_result"
    },
    {
     "data": {
      "image/png": "[encoded data removed]",
      "text/plain": [
       "<Figure size 640x480 with 1 Axes>"
      ]
     },
     "metadata": {},
     "output_type": "display_data"
    }
   ],
   "source": [
    "plt.plot(df3)"
   ]
  },
  {
   "cell_type": "code",
   "execution_count": null,
   "metadata": {},
   "outputs": [],
   "source": []
  }
 ],
 "metadata": {
  "kernelspec": {
   "display_name": "Python 3.9.7 ('env': venv)",
   "language": "python",
   "name": "python3"
  },
  "language_info": {
   "codemirror_mode": {
    "name": "ipython",
    "version": 3
   },
   "file_extension": ".py",
   "mimetype": "text/x-python",
   "name": "python",
   "nbconvert_exporter": "python",
   "pygments_lexer": "ipython3",
   "version": "3.9.7"
  },
  "vscode": {
   "interpreter": {
    "hash": "ebfab15069c05904233f7355f27e454a17f3fb8a6702165e9863e8e9188afd93"
   }
  }
 },
 "nbformat": 4,
 "nbformat_minor": 2
}
