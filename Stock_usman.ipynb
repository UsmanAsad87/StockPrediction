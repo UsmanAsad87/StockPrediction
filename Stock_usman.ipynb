{
 "cells": [
  {
   "cell_type": "markdown",
   "metadata": {},
   "source": [
    "### Stock Market Prediction And Forecasting Using Stacked LSTM"
   ]
  },
  {
   "cell_type": "code",
   "execution_count": 122,
   "metadata": {},
   "outputs": [],
   "source": [
    "### Keras and Tensorflow >2.0"
   ]
  },
  {
   "cell_type": "code",
   "execution_count": 123,
   "metadata": {},
   "outputs": [],
   "source": [
    "### Data Collection\n",
    "import pandas_datareader as pdr\n",
    "key=\"\""
   ]
  },
  {
   "cell_type": "code",
   "execution_count": 124,
   "metadata": {},
   "outputs": [],
   "source": [
    "import pandas as pd"
   ]
  },
  {
   "cell_type": "code",
   "execution_count": 125,
   "metadata": {},
   "outputs": [],
   "source": [
    "# For reading stock data from yahoo\n",
    "from pandas_datareader.data import DataReader\n",
    "import yfinance as yf\n",
    "\n",
    "# For time stamps\n",
    "from datetime import datetime"
   ]
  },
  {
   "cell_type": "code",
   "execution_count": 126,
   "metadata": {},
   "outputs": [
    {
     "name": "stdout",
     "output_type": "stream",
     "text": [
      "[*********************100%***********************]  1 of 1 completed\n"
     ]
    }
   ],
   "source": [
    "df=yf.download('AAPL', start='2012-01-01', end=datetime.now())"
   ]
  },
  {
   "cell_type": "code",
   "execution_count": 127,
   "metadata": {},
   "outputs": [
    {
     "data": {
      "text/html": [
       "<div>\n",
       "<style scoped>\n",
       "    .dataframe tbody tr th:only-of-type {\n",
       "        vertical-align: middle;\n",
       "    }\n",
       "\n",
       "    .dataframe tbody tr th {\n",
       "        vertical-align: top;\n",
       "    }\n",
       "\n",
       "    .dataframe thead th {\n",
       "        text-align: right;\n",
       "    }\n",
       "</style>\n",
       "<table border=\"1\" class=\"dataframe\">\n",
       "  <thead>\n",
       "    <tr style=\"text-align: right;\">\n",
       "      <th></th>\n",
       "      <th>Open</th>\n",
       "      <th>High</th>\n",
       "      <th>Low</th>\n",
       "      <th>Close</th>\n",
       "      <th>Adj Close</th>\n",
       "      <th>Volume</th>\n",
       "    </tr>\n",
       "    <tr>\n",
       "      <th>Date</th>\n",
       "      <th></th>\n",
       "      <th></th>\n",
       "      <th></th>\n",
       "      <th></th>\n",
       "      <th></th>\n",
       "      <th></th>\n",
       "    </tr>\n",
       "  </thead>\n",
       "  <tbody>\n",
       "    <tr>\n",
       "      <th>2012-01-03 00:00:00-05:00</th>\n",
       "      <td>14.621429</td>\n",
       "      <td>14.732143</td>\n",
       "      <td>14.607143</td>\n",
       "      <td>14.686786</td>\n",
       "      <td>12.519279</td>\n",
       "      <td>302220800</td>\n",
       "    </tr>\n",
       "    <tr>\n",
       "      <th>2012-01-04 00:00:00-05:00</th>\n",
       "      <td>14.642857</td>\n",
       "      <td>14.810000</td>\n",
       "      <td>14.617143</td>\n",
       "      <td>14.765714</td>\n",
       "      <td>12.586558</td>\n",
       "      <td>260022000</td>\n",
       "    </tr>\n",
       "    <tr>\n",
       "      <th>2012-01-05 00:00:00-05:00</th>\n",
       "      <td>14.819643</td>\n",
       "      <td>14.948214</td>\n",
       "      <td>14.738214</td>\n",
       "      <td>14.929643</td>\n",
       "      <td>12.726294</td>\n",
       "      <td>271269600</td>\n",
       "    </tr>\n",
       "    <tr>\n",
       "      <th>2012-01-06 00:00:00-05:00</th>\n",
       "      <td>14.991786</td>\n",
       "      <td>15.098214</td>\n",
       "      <td>14.972143</td>\n",
       "      <td>15.085714</td>\n",
       "      <td>12.859333</td>\n",
       "      <td>318292800</td>\n",
       "    </tr>\n",
       "    <tr>\n",
       "      <th>2012-01-09 00:00:00-05:00</th>\n",
       "      <td>15.196429</td>\n",
       "      <td>15.276786</td>\n",
       "      <td>15.048214</td>\n",
       "      <td>15.061786</td>\n",
       "      <td>12.838935</td>\n",
       "      <td>394024400</td>\n",
       "    </tr>\n",
       "  </tbody>\n",
       "</table>\n",
       "</div>"
      ],
      "text/plain": [
       "                                Open       High        Low      Close  \\\n",
       "Date                                                                    \n",
       "2012-01-03 00:00:00-05:00  14.621429  14.732143  14.607143  14.686786   \n",
       "2012-01-04 00:00:00-05:00  14.642857  14.810000  14.617143  14.765714   \n",
       "2012-01-05 00:00:00-05:00  14.819643  14.948214  14.738214  14.929643   \n",
       "2012-01-06 00:00:00-05:00  14.991786  15.098214  14.972143  15.085714   \n",
       "2012-01-09 00:00:00-05:00  15.196429  15.276786  15.048214  15.061786   \n",
       "\n",
       "                           Adj Close     Volume  \n",
       "Date                                             \n",
       "2012-01-03 00:00:00-05:00  12.519279  302220800  \n",
       "2012-01-04 00:00:00-05:00  12.586558  260022000  \n",
       "2012-01-05 00:00:00-05:00  12.726294  271269600  \n",
       "2012-01-06 00:00:00-05:00  12.859333  318292800  \n",
       "2012-01-09 00:00:00-05:00  12.838935  394024400  "
      ]
     },
     "execution_count": 127,
     "metadata": {},
     "output_type": "execute_result"
    }
   ],
   "source": [
    "df.head()"
   ]
  },
  {
   "cell_type": "code",
   "execution_count": 128,
   "metadata": {},
   "outputs": [
    {
     "data": {
      "text/html": [
       "<div>\n",
       "<style scoped>\n",
       "    .dataframe tbody tr th:only-of-type {\n",
       "        vertical-align: middle;\n",
       "    }\n",
       "\n",
       "    .dataframe tbody tr th {\n",
       "        vertical-align: top;\n",
       "    }\n",
       "\n",
       "    .dataframe thead th {\n",
       "        text-align: right;\n",
       "    }\n",
       "</style>\n",
       "<table border=\"1\" class=\"dataframe\">\n",
       "  <thead>\n",
       "    <tr style=\"text-align: right;\">\n",
       "      <th></th>\n",
       "      <th>Open</th>\n",
       "      <th>High</th>\n",
       "      <th>Low</th>\n",
       "      <th>Close</th>\n",
       "      <th>Adj Close</th>\n",
       "      <th>Volume</th>\n",
       "    </tr>\n",
       "    <tr>\n",
       "      <th>Date</th>\n",
       "      <th></th>\n",
       "      <th></th>\n",
       "      <th></th>\n",
       "      <th></th>\n",
       "      <th></th>\n",
       "      <th></th>\n",
       "    </tr>\n",
       "  </thead>\n",
       "  <tbody>\n",
       "    <tr>\n",
       "      <th>2023-01-30 00:00:00-05:00</th>\n",
       "      <td>144.960007</td>\n",
       "      <td>145.550003</td>\n",
       "      <td>142.850006</td>\n",
       "      <td>143.000000</td>\n",
       "      <td>143.000000</td>\n",
       "      <td>64015300</td>\n",
       "    </tr>\n",
       "    <tr>\n",
       "      <th>2023-01-31 00:00:00-05:00</th>\n",
       "      <td>142.699997</td>\n",
       "      <td>144.339996</td>\n",
       "      <td>142.279999</td>\n",
       "      <td>144.289993</td>\n",
       "      <td>144.289993</td>\n",
       "      <td>65874500</td>\n",
       "    </tr>\n",
       "    <tr>\n",
       "      <th>2023-02-01 00:00:00-05:00</th>\n",
       "      <td>143.970001</td>\n",
       "      <td>146.610001</td>\n",
       "      <td>141.320007</td>\n",
       "      <td>145.429993</td>\n",
       "      <td>145.429993</td>\n",
       "      <td>77663600</td>\n",
       "    </tr>\n",
       "    <tr>\n",
       "      <th>2023-02-02 00:00:00-05:00</th>\n",
       "      <td>148.899994</td>\n",
       "      <td>151.179993</td>\n",
       "      <td>148.169998</td>\n",
       "      <td>150.820007</td>\n",
       "      <td>150.820007</td>\n",
       "      <td>118339000</td>\n",
       "    </tr>\n",
       "    <tr>\n",
       "      <th>2023-02-03 00:00:00-05:00</th>\n",
       "      <td>148.029999</td>\n",
       "      <td>157.380005</td>\n",
       "      <td>147.830002</td>\n",
       "      <td>154.500000</td>\n",
       "      <td>154.500000</td>\n",
       "      <td>154279900</td>\n",
       "    </tr>\n",
       "  </tbody>\n",
       "</table>\n",
       "</div>"
      ],
      "text/plain": [
       "                                 Open        High         Low       Close  \\\n",
       "Date                                                                        \n",
       "2023-01-30 00:00:00-05:00  144.960007  145.550003  142.850006  143.000000   \n",
       "2023-01-31 00:00:00-05:00  142.699997  144.339996  142.279999  144.289993   \n",
       "2023-02-01 00:00:00-05:00  143.970001  146.610001  141.320007  145.429993   \n",
       "2023-02-02 00:00:00-05:00  148.899994  151.179993  148.169998  150.820007   \n",
       "2023-02-03 00:00:00-05:00  148.029999  157.380005  147.830002  154.500000   \n",
       "\n",
       "                            Adj Close     Volume  \n",
       "Date                                              \n",
       "2023-01-30 00:00:00-05:00  143.000000   64015300  \n",
       "2023-01-31 00:00:00-05:00  144.289993   65874500  \n",
       "2023-02-01 00:00:00-05:00  145.429993   77663600  \n",
       "2023-02-02 00:00:00-05:00  150.820007  118339000  \n",
       "2023-02-03 00:00:00-05:00  154.500000  154279900  "
      ]
     },
     "execution_count": 128,
     "metadata": {},
     "output_type": "execute_result"
    }
   ],
   "source": [
    "df.tail()"
   ]
  },
  {
   "cell_type": "code",
   "execution_count": 129,
   "metadata": {},
   "outputs": [],
   "source": [
    "df1=df['Close']"
   ]
  },
  {
   "cell_type": "code",
   "execution_count": 130,
   "metadata": {},
   "outputs": [
    {
     "data": {
      "text/plain": [
       "Date\n",
       "2012-01-03 00:00:00-05:00     14.686786\n",
       "2012-01-04 00:00:00-05:00     14.765714\n",
       "2012-01-05 00:00:00-05:00     14.929643\n",
       "2012-01-06 00:00:00-05:00     15.085714\n",
       "2012-01-09 00:00:00-05:00     15.061786\n",
       "                                ...    \n",
       "2023-01-30 00:00:00-05:00    143.000000\n",
       "2023-01-31 00:00:00-05:00    144.289993\n",
       "2023-02-01 00:00:00-05:00    145.429993\n",
       "2023-02-02 00:00:00-05:00    150.820007\n",
       "2023-02-03 00:00:00-05:00    154.500000\n",
       "Name: Close, Length: 2791, dtype: float64"
      ]
     },
     "execution_count": 130,
     "metadata": {},
     "output_type": "execute_result"
    }
   ],
   "source": [
    "df1"
   ]
  },
  {
   "cell_type": "code",
   "execution_count": 131,
   "metadata": {},
   "outputs": [
    {
     "data": {
      "text/plain": [
       "[<matplotlib.lines.Line2D at 0x20b93ca7e50>]"
      ]
     },
     "execution_count": 131,
     "metadata": {},
     "output_type": "execute_result"
    },
    {
     "data": {
      "image/png": "[encoded data removed]",
      "text/plain": [
       "<Figure size 640x480 with 1 Axes>"
      ]
     },
     "metadata": {},
     "output_type": "display_data"
    }
   ],
   "source": [
    "import matplotlib.pyplot as plt\n",
    "plt.plot(df1)"
   ]
  },
  {
   "cell_type": "code",
   "execution_count": 132,
   "metadata": {},
   "outputs": [],
   "source": [
    "### LSTM are sensitive to the scale of the data. so we apply MinMax scaler "
   ]
  },
  {
   "cell_type": "code",
   "execution_count": 133,
   "metadata": {},
   "outputs": [],
   "source": [
    "import numpy as np"
   ]
  },
  {
   "cell_type": "code",
   "execution_count": 134,
   "metadata": {},
   "outputs": [
    {
     "data": {
      "text/plain": [
       "Date\n",
       "2012-01-03 00:00:00-05:00     14.686786\n",
       "2012-01-04 00:00:00-05:00     14.765714\n",
       "2012-01-05 00:00:00-05:00     14.929643\n",
       "2012-01-06 00:00:00-05:00     15.085714\n",
       "2012-01-09 00:00:00-05:00     15.061786\n",
       "                                ...    \n",
       "2023-01-30 00:00:00-05:00    143.000000\n",
       "2023-01-31 00:00:00-05:00    144.289993\n",
       "2023-02-01 00:00:00-05:00    145.429993\n",
       "2023-02-02 00:00:00-05:00    150.820007\n",
       "2023-02-03 00:00:00-05:00    154.500000\n",
       "Name: Close, Length: 2791, dtype: float64"
      ]
     },
     "execution_count": 134,
     "metadata": {},
     "output_type": "execute_result"
    }
   ],
   "source": [
    "df1"
   ]
  },
  {
   "cell_type": "code",
   "execution_count": 135,
   "metadata": {},
   "outputs": [],
   "source": [
    "from sklearn.preprocessing import MinMaxScaler\n",
    "scaler=MinMaxScaler(feature_range=(0,1))\n",
    "df1=scaler.fit_transform(np.array(df1).reshape(-1,1))"
   ]
  },
  {
   "cell_type": "code",
   "execution_count": 136,
   "metadata": {},
   "outputs": [
    {
     "name": "stdout",
     "output_type": "stream",
     "text": [
      "[[0.00439887]\n",
      " [0.00486851]\n",
      " [0.00584391]\n",
      " ...\n",
      " [0.78234286]\n",
      " [0.81441435]\n",
      " [0.83631092]]\n"
     ]
    }
   ],
   "source": [
    "print(df1)"
   ]
  },
  {
   "cell_type": "code",
   "execution_count": 137,
   "metadata": {},
   "outputs": [],
   "source": [
    "##splitting dataset into train and test split\n",
    "training_size=int(len(df1)*0.9)\n",
    "test_size=len(df1)-training_size\n",
    "train_data,test_data=df1[0:training_size,:],df1[training_size:len(df1),:1]"
   ]
  },
  {
   "cell_type": "code",
   "execution_count": 138,
   "metadata": {},
   "outputs": [
    {
     "data": {
      "text/plain": [
       "(2511, 280)"
      ]
     },
     "execution_count": 138,
     "metadata": {},
     "output_type": "execute_result"
    }
   ],
   "source": [
    "training_size,test_size"
   ]
  },
  {
   "cell_type": "code",
   "execution_count": 139,
   "metadata": {},
   "outputs": [
    {
     "data": {
      "text/plain": [
       "array([[0.00439887],\n",
       "       [0.00486851],\n",
       "       [0.00584391],\n",
       "       ...,\n",
       "       [0.92705098],\n",
       "       [0.94632955],\n",
       "       [0.96209746]])"
      ]
     },
     "execution_count": 139,
     "metadata": {},
     "output_type": "execute_result"
    }
   ],
   "source": [
    "train_data"
   ]
  },
  {
   "cell_type": "code",
   "execution_count": 140,
   "metadata": {},
   "outputs": [],
   "source": [
    "import numpy\n",
    "# convert an array of values into a dataset matrix\n",
    "def create_dataset(dataset, time_step=1):\n",
    "\tdataX, dataY = [], []\n",
    "\tfor i in range(len(dataset)-time_step-1):\n",
    "\t\ta = dataset[i:(i+time_step), 0]   ###i=0, 0,1,2,3-----99   100 \n",
    "\t\tdataX.append(a)\n",
    "\t\tdataY.append(dataset[i + time_step, 0])\n",
    "\treturn numpy.array(dataX), numpy.array(dataY)"
   ]
  },
  {
   "cell_type": "code",
   "execution_count": 141,
   "metadata": {},
   "outputs": [],
   "source": [
    "# reshape into X=t,t+1,t+2,t+3 and Y=t+4\n",
    "time_step = 100\n",
    "X_train, y_train = create_dataset(train_data, time_step)\n",
    "X_test, ytest = create_dataset(test_data, time_step)"
   ]
  },
  {
   "cell_type": "code",
   "execution_count": 142,
   "metadata": {},
   "outputs": [
    {
     "name": "stdout",
     "output_type": "stream",
     "text": [
      "(2450, 60)\n",
      "(2450,)\n"
     ]
    },
    {
     "data": {
      "text/plain": [
       "(None, None)"
      ]
     },
     "execution_count": 142,
     "metadata": {},
     "output_type": "execute_result"
    }
   ],
   "source": [
    "print(X_train.shape), print(y_train.shape)"
   ]
  },
  {
   "cell_type": "code",
   "execution_count": 143,
   "metadata": {},
   "outputs": [
    {
     "name": "stdout",
     "output_type": "stream",
     "text": [
      "(219, 60)\n",
      "(219,)\n"
     ]
    },
    {
     "data": {
      "text/plain": [
       "(None, None)"
      ]
     },
     "execution_count": 143,
     "metadata": {},
     "output_type": "execute_result"
    }
   ],
   "source": [
    "print(X_test.shape), print(ytest.shape)"
   ]
  },
  {
   "cell_type": "code",
   "execution_count": 144,
   "metadata": {},
   "outputs": [],
   "source": [
    "# reshape input to be [samples, time steps, features] which is required for LSTM\n",
    "X_train =X_train.reshape(X_train.shape[0],X_train.shape[1] , 1)\n",
    "X_test = X_test.reshape(X_test.shape[0],X_test.shape[1] , 1)"
   ]
  },
  {
   "cell_type": "code",
   "execution_count": 145,
   "metadata": {},
   "outputs": [],
   "source": [
    "### Create the Stacked LSTM model\n",
    "from tensorflow.keras.models import Sequential\n",
    "from tensorflow.keras.layers import Dense\n",
    "from tensorflow.keras.layers import LSTM"
   ]
  },
  {
   "cell_type": "code",
   "execution_count": 146,
   "metadata": {},
   "outputs": [],
   "source": [
    "model=Sequential()\n",
    "model.add(LSTM(50,return_sequences=True,input_shape=(100,1)))\n",
    "model.add(LSTM(50,return_sequences=True))\n",
    "model.add(LSTM(50))\n",
    "model.add(Dense(1))\n",
    "model.compile(loss='mean_squared_error',optimizer='adam')\n"
   ]
  },
  {
   "cell_type": "code",
   "execution_count": 147,
   "metadata": {},
   "outputs": [
    {
     "name": "stdout",
     "output_type": "stream",
     "text": [
      "Model: \"sequential_3\"\n",
      "_________________________________________________________________\n",
      " Layer (type)                Output Shape              Param #   \n",
      "=================================================================\n",
      " lstm_9 (LSTM)               (None, 100, 50)           10400     \n",
      "                                                                 \n",
      " lstm_10 (LSTM)              (None, 100, 50)           20200     \n",
      "                                                                 \n",
      " lstm_11 (LSTM)              (None, 50)                20200     \n",
      "                                                                 \n",
      " dense_3 (Dense)             (None, 1)                 51        \n",
      "                                                                 \n",
      "=================================================================\n",
      "Total params: 50,851\n",
      "Trainable params: 50,851\n",
      "Non-trainable params: 0\n",
      "_________________________________________________________________\n"
     ]
    }
   ],
   "source": [
    "model.summary()"
   ]
  },
  {
   "cell_type": "code",
   "execution_count": 148,
   "metadata": {},
   "outputs": [
    {
     "name": "stdout",
     "output_type": "stream",
     "text": [
      "Model: \"sequential_3\"\n",
      "_________________________________________________________________\n",
      " Layer (type)                Output Shape              Param #   \n",
      "=================================================================\n",
      " lstm_9 (LSTM)               (None, 100, 50)           10400     \n",
      "                                                                 \n",
      " lstm_10 (LSTM)              (None, 100, 50)           20200     \n",
      "                                                                 \n",
      " lstm_11 (LSTM)              (None, 50)                20200     \n",
      "                                                                 \n",
      " dense_3 (Dense)             (None, 1)                 51        \n",
      "                                                                 \n",
      "=================================================================\n",
      "Total params: 50,851\n",
      "Trainable params: 50,851\n",
      "Non-trainable params: 0\n",
      "_________________________________________________________________\n"
     ]
    }
   ],
   "source": [
    "model.summary()"
   ]
  },
  {
   "cell_type": "code",
   "execution_count": null,
   "metadata": {},
   "outputs": [],
   "source": []
  },
  {
   "cell_type": "code",
   "execution_count": 149,
   "metadata": {},
   "outputs": [
    {
     "name": "stdout",
     "output_type": "stream",
     "text": [
      "Epoch 1/10\n"
     ]
    },
    {
     "ename": "ValueError",
     "evalue": "in user code:\n\n    File \"d:\\Stock_Research\\env\\lib\\site-packages\\keras\\engine\\training.py\", line 1249, in train_function  *\n        return step_function(self, iterator)\n    File \"d:\\Stock_Research\\env\\lib\\site-packages\\keras\\engine\\training.py\", line 1233, in step_function  **\n        outputs = model.distribute_strategy.run(run_step, args=(data,))\n    File \"d:\\Stock_Research\\env\\lib\\site-packages\\keras\\engine\\training.py\", line 1222, in run_step  **\n        outputs = model.train_step(data)\n    File \"d:\\Stock_Research\\env\\lib\\site-packages\\keras\\engine\\training.py\", line 1023, in train_step\n        y_pred = self(x, training=True)\n    File \"d:\\Stock_Research\\env\\lib\\site-packages\\keras\\utils\\traceback_utils.py\", line 70, in error_handler\n        raise e.with_traceback(filtered_tb) from None\n    File \"d:\\Stock_Research\\env\\lib\\site-packages\\keras\\engine\\input_spec.py\", line 295, in assert_input_compatibility\n        raise ValueError(\n\n    ValueError: Input 0 of layer \"sequential_3\" is incompatible with the layer: expected shape=(None, 100, 1), found shape=(None, 60, 1)\n",
     "output_type": "error",
     "traceback": [
      "\u001b[1;31m---------------------------------------------------------------------------\u001b[0m",
      "\u001b[1;31mValueError\u001b[0m                                Traceback (most recent call last)",
      "Cell \u001b[1;32mIn[149], line 1\u001b[0m\n\u001b[1;32m----> 1\u001b[0m \u001b[43mmodel\u001b[49m\u001b[38;5;241;43m.\u001b[39;49m\u001b[43mfit\u001b[49m\u001b[43m(\u001b[49m\u001b[43mX_train\u001b[49m\u001b[43m,\u001b[49m\u001b[43my_train\u001b[49m\u001b[43m,\u001b[49m\u001b[43mvalidation_data\u001b[49m\u001b[38;5;241;43m=\u001b[39;49m\u001b[43m(\u001b[49m\u001b[43mX_test\u001b[49m\u001b[43m,\u001b[49m\u001b[43mytest\u001b[49m\u001b[43m)\u001b[49m\u001b[43m,\u001b[49m\u001b[43mepochs\u001b[49m\u001b[38;5;241;43m=\u001b[39;49m\u001b[38;5;241;43m10\u001b[39;49m\u001b[43m,\u001b[49m\u001b[43mbatch_size\u001b[49m\u001b[38;5;241;43m=\u001b[39;49m\u001b[38;5;241;43m64\u001b[39;49m\u001b[43m,\u001b[49m\u001b[43mverbose\u001b[49m\u001b[38;5;241;43m=\u001b[39;49m\u001b[38;5;241;43m1\u001b[39;49m\u001b[43m)\u001b[49m\n",
      "File \u001b[1;32md:\\Stock_Research\\env\\lib\\site-packages\\keras\\utils\\traceback_utils.py:70\u001b[0m, in \u001b[0;36mfilter_traceback.<locals>.error_handler\u001b[1;34m(*args, **kwargs)\u001b[0m\n\u001b[0;32m     67\u001b[0m     filtered_tb \u001b[39m=\u001b[39m _process_traceback_frames(e\u001b[39m.\u001b[39m__traceback__)\n\u001b[0;32m     68\u001b[0m     \u001b[39m# To get the full stack trace, call:\u001b[39;00m\n\u001b[0;32m     69\u001b[0m     \u001b[39m# `tf.debugging.disable_traceback_filtering()`\u001b[39;00m\n\u001b[1;32m---> 70\u001b[0m     \u001b[39mraise\u001b[39;00m e\u001b[39m.\u001b[39mwith_traceback(filtered_tb) \u001b[39mfrom\u001b[39;00m \u001b[39mNone\u001b[39m\n\u001b[0;32m     71\u001b[0m \u001b[39mfinally\u001b[39;00m:\n\u001b[0;32m     72\u001b[0m     \u001b[39mdel\u001b[39;00m filtered_tb\n",
      "File \u001b[1;32mC:\\Users\\ADMINI~1\\AppData\\Local\\Temp\\__autograph_generated_file91521d24.py:15\u001b[0m, in \u001b[0;36mouter_factory.<locals>.inner_factory.<locals>.tf__train_function\u001b[1;34m(iterator)\u001b[0m\n\u001b[0;32m     13\u001b[0m \u001b[39mtry\u001b[39;00m:\n\u001b[0;32m     14\u001b[0m     do_return \u001b[39m=\u001b[39m \u001b[39mTrue\u001b[39;00m\n\u001b[1;32m---> 15\u001b[0m     retval_ \u001b[39m=\u001b[39m ag__\u001b[39m.\u001b[39mconverted_call(ag__\u001b[39m.\u001b[39mld(step_function), (ag__\u001b[39m.\u001b[39mld(\u001b[39mself\u001b[39m), ag__\u001b[39m.\u001b[39mld(iterator)), \u001b[39mNone\u001b[39;00m, fscope)\n\u001b[0;32m     16\u001b[0m \u001b[39mexcept\u001b[39;00m:\n\u001b[0;32m     17\u001b[0m     do_return \u001b[39m=\u001b[39m \u001b[39mFalse\u001b[39;00m\n",
      "\u001b[1;31mValueError\u001b[0m: in user code:\n\n    File \"d:\\Stock_Research\\env\\lib\\site-packages\\keras\\engine\\training.py\", line 1249, in train_function  *\n        return step_function(self, iterator)\n    File \"d:\\Stock_Research\\env\\lib\\site-packages\\keras\\engine\\training.py\", line 1233, in step_function  **\n        outputs = model.distribute_strategy.run(run_step, args=(data,))\n    File \"d:\\Stock_Research\\env\\lib\\site-packages\\keras\\engine\\training.py\", line 1222, in run_step  **\n        outputs = model.train_step(data)\n    File \"d:\\Stock_Research\\env\\lib\\site-packages\\keras\\engine\\training.py\", line 1023, in train_step\n        y_pred = self(x, training=True)\n    File \"d:\\Stock_Research\\env\\lib\\site-packages\\keras\\utils\\traceback_utils.py\", line 70, in error_handler\n        raise e.with_traceback(filtered_tb) from None\n    File \"d:\\Stock_Research\\env\\lib\\site-packages\\keras\\engine\\input_spec.py\", line 295, in assert_input_compatibility\n        raise ValueError(\n\n    ValueError: Input 0 of layer \"sequential_3\" is incompatible with the layer: expected shape=(None, 100, 1), found shape=(None, 60, 1)\n"
     ]
    }
   ],
   "source": [
    "model.fit(X_train,y_train,validation_data=(X_test,ytest),epochs=10,batch_size=64,verbose=1)"
   ]
  },
  {
   "cell_type": "code",
   "execution_count": null,
   "metadata": {},
   "outputs": [],
   "source": [
    "import tensorflow as tf"
   ]
  },
  {
   "cell_type": "code",
   "execution_count": null,
   "metadata": {},
   "outputs": [
    {
     "data": {
      "text/plain": [
       "'2.11.0'"
      ]
     },
     "execution_count": 76,
     "metadata": {},
     "output_type": "execute_result"
    }
   ],
   "source": [
    "tf.__version__"
   ]
  },
  {
   "cell_type": "code",
   "execution_count": null,
   "metadata": {},
   "outputs": [
    {
     "name": "stdout",
     "output_type": "stream",
     "text": [
      "67/67 [==============================] - 3s 29ms/step\n",
      "15/15 [==============================] - 0s 29ms/step\n"
     ]
    }
   ],
   "source": [
    "### Lets Do the prediction and check performance metrics\n",
    "train_predict=model.predict(X_train)\n",
    "test_predict=model.predict(X_test)"
   ]
  },
  {
   "cell_type": "code",
   "execution_count": null,
   "metadata": {},
   "outputs": [],
   "source": [
    "##Transformback to original form\n",
    "train_predict=scaler.inverse_transform(train_predict)\n",
    "test_predict=scaler.inverse_transform(test_predict)"
   ]
  },
  {
   "cell_type": "code",
   "execution_count": null,
   "metadata": {},
   "outputs": [
    {
     "data": {
      "text/plain": [
       "43.1359421735812"
      ]
     },
     "execution_count": 79,
     "metadata": {},
     "output_type": "execute_result"
    }
   ],
   "source": [
    "### Calculate RMSE performance metrics\n",
    "import math\n",
    "from sklearn.metrics import mean_squared_error\n",
    "math.sqrt(mean_squared_error(y_train,train_predict))"
   ]
  },
  {
   "cell_type": "code",
   "execution_count": null,
   "metadata": {},
   "outputs": [
    {
     "data": {
      "text/plain": [
       "141.0606384719802"
      ]
     },
     "execution_count": 80,
     "metadata": {},
     "output_type": "execute_result"
    }
   ],
   "source": [
    "### Test Data RMSE\n",
    "math.sqrt(mean_squared_error(ytest,test_predict))"
   ]
  },
  {
   "cell_type": "code",
   "execution_count": null,
   "metadata": {},
   "outputs": [
    {
     "data": {
      "image/png": "[encoded data removed]",
      "text/plain": [
       "<Figure size 640x480 with 1 Axes>"
      ]
     },
     "metadata": {},
     "output_type": "display_data"
    }
   ],
   "source": [
    "### Plotting \n",
    "# shift train predictions for plotting\n",
    "look_back=100\n",
    "trainPredictPlot = numpy.empty_like(df1)\n",
    "trainPredictPlot[:, :] = np.nan\n",
    "trainPredictPlot[look_back:len(train_predict)+look_back, :] = train_predict\n",
    "# shift test predictions for plotting\n",
    "testPredictPlot = numpy.empty_like(df1)\n",
    "testPredictPlot[:, :] = numpy.nan\n",
    "testPredictPlot[len(train_predict)+(look_back*2)+1:len(df1)-1, :] = test_predict\n",
    "# plot baseline and predictions\n",
    "plt.plot(scaler.inverse_transform(df1))\n",
    "plt.plot(trainPredictPlot)\n",
    "plt.plot(testPredictPlot)\n",
    "plt.show()"
   ]
  },
  {
   "cell_type": "code",
   "execution_count": null,
   "metadata": {},
   "outputs": [
    {
     "data": {
      "text/plain": [
       "559"
      ]
     },
     "execution_count": 82,
     "metadata": {},
     "output_type": "execute_result"
    }
   ],
   "source": [
    "len(test_data)"
   ]
  },
  {
   "cell_type": "code",
   "execution_count": null,
   "metadata": {},
   "outputs": [
    {
     "data": {
      "text/plain": [
       "(1, 100)"
      ]
     },
     "execution_count": 83,
     "metadata": {},
     "output_type": "execute_result"
    }
   ],
   "source": [
    "x_input=test_data[len(test_data)-100:].reshape(1,-1)\n",
    "x_input.shape\n"
   ]
  },
  {
   "cell_type": "code",
   "execution_count": null,
   "metadata": {},
   "outputs": [],
   "source": []
  },
  {
   "cell_type": "code",
   "execution_count": null,
   "metadata": {},
   "outputs": [],
   "source": []
  },
  {
   "cell_type": "code",
   "execution_count": null,
   "metadata": {},
   "outputs": [],
   "source": [
    "temp_input=list(x_input)\n",
    "temp_input=temp_input[0].tolist()"
   ]
  },
  {
   "cell_type": "code",
   "execution_count": null,
   "metadata": {},
   "outputs": [
    {
     "data": {
      "text/plain": [
       "[0.8323837909822064,\n",
       " 0.8411305445456274,\n",
       " 0.8236370374187854,\n",
       " 0.813700268503626,\n",
       " 0.8361918945831797,\n",
       " 0.8505912891616211,\n",
       " 0.8316697999296337,\n",
       " 0.8258386611514702,\n",
       " 0.812093697842986,\n",
       " 0.8141168238125278,\n",
       " 0.8200074315809551,\n",
       " 0.8085831207780352,\n",
       " 0.764789883970666,\n",
       " 0.7393231741155909,\n",
       " 0.7646113862075229,\n",
       " 0.7863295522442401,\n",
       " 0.7881145298756717,\n",
       " 0.782342860087772,\n",
       " 0.7505689871553678,\n",
       " 0.7525325533422941,\n",
       " 0.7439642975420162,\n",
       " 0.7401561939410428,\n",
       " 0.7678245275288028,\n",
       " 0.7403942514868014,\n",
       " 0.7643734194541159,\n",
       " 0.7723466221823488,\n",
       " 0.7730011442446576,\n",
       " 0.7702045582322793,\n",
       " 0.793291237383878,\n",
       " 0.8062625590648225,\n",
       " 0.8234585396556422,\n",
       " 0.8056675967851291,\n",
       " 0.7785943162694141,\n",
       " 0.8436891638045987,\n",
       " 0.829408707206685,\n",
       " 0.8134027419676035,\n",
       " 0.7799628293842955,\n",
       " 0.7433693352623229,\n",
       " 0.7403942514868014,\n",
       " 0.7436073020157299,\n",
       " 0.7470584100904168,\n",
       " 0.7195091052755362,\n",
       " 0.7909111158880499,\n",
       " 0.8077501009525833,\n",
       " 0.7993008739251846,\n",
       " 0.8097731361297734,\n",
       " 0.8023354266909699,\n",
       " 0.8138192972765053,\n",
       " 0.8172108455685769,\n",
       " 0.7976943032645446,\n",
       " 0.8106061559552253,\n",
       " 0.8159018922363109,\n",
       " 0.7982893563365895,\n",
       " 0.775143208194727,\n",
       " 0.7569951790055762,\n",
       " 0.7978133320374239,\n",
       " 0.7994793716883277,\n",
       " 0.7965042879128064,\n",
       " 0.7894831337829046,\n",
       " 0.7673485032296372,\n",
       " 0.7556266658906948,\n",
       " 0.7658014015592611,\n",
       " 0.7628858775663552,\n",
       " 0.776749778855367,\n",
       " 0.7825809176335305,\n",
       " 0.7691335716534203,\n",
       " 0.7292079074372885,\n",
       " 0.7173670413254667,\n",
       " 0.7046336863979291,\n",
       " 0.704217221881379,\n",
       " 0.7229602133502232,\n",
       " 0.7038006665724772,\n",
       " 0.7015991336321439,\n",
       " 0.6907103161186534,\n",
       " 0.6669691603009218,\n",
       " 0.6882112566422975,\n",
       " 0.6901152630466084,\n",
       " 0.6611974905130221,\n",
       " 0.6688732121014085,\n",
       " 0.6608999639769997,\n",
       " 0.6882707256325614,\n",
       " 0.691424307171226,\n",
       " 0.694875415245913,\n",
       " 0.7112979357938962,\n",
       " 0.7108219114947305,\n",
       " 0.7188545832132274,\n",
       " 0.7258758281354807,\n",
       " 0.7215322312450779,\n",
       " 0.7218892267713642,\n",
       " 0.7373596079286646,\n",
       " 0.7566381834792899,\n",
       " 0.7650874105066885,\n",
       " 0.7611008091425719,\n",
       " 0.7735961973167025,\n",
       " 0.7853179438632933,\n",
       " 0.7678839965190667,\n",
       " 0.7755596727112772,\n",
       " 0.782342860087772,\n",
       " 0.8144143503485503,\n",
       " 0.836310923356059]"
      ]
     },
     "execution_count": 85,
     "metadata": {},
     "output_type": "execute_result"
    }
   ],
   "source": [
    "temp_input"
   ]
  },
  {
   "cell_type": "code",
   "execution_count": null,
   "metadata": {},
   "outputs": [
    {
     "name": "stdout",
     "output_type": "stream",
     "text": [
      "[0.73397124]\n",
      "101\n",
      "1 day input [0.84113054 0.82363704 0.81370027 0.83619189 0.85059129 0.8316698\n",
      " 0.82583866 0.8120937  0.81411682 0.82000743 0.80858312 0.76478988\n",
      " 0.73932317 0.76461139 0.78632955 0.78811453 0.78234286 0.75056899\n",
      " 0.75253255 0.7439643  0.74015619 0.76782453 0.74039425 0.76437342\n",
      " 0.77234662 0.77300114 0.77020456 0.79329124 0.80626256 0.82345854\n",
      " 0.8056676  0.77859432 0.84368916 0.82940871 0.81340274 0.77996283\n",
      " 0.74336934 0.74039425 0.7436073  0.74705841 0.71950911 0.79091112\n",
      " 0.8077501  0.79930087 0.80977314 0.80233543 0.8138193  0.81721085\n",
      " 0.7976943  0.81060616 0.81590189 0.79828936 0.77514321 0.75699518\n",
      " 0.79781333 0.79947937 0.79650429 0.78948313 0.7673485  0.75562667\n",
      " 0.7658014  0.76288588 0.77674978 0.78258092 0.76913357 0.72920791\n",
      " 0.71736704 0.70463369 0.70421722 0.72296021 0.70380067 0.70159913\n",
      " 0.69071032 0.66696916 0.68821126 0.69011526 0.66119749 0.66887321\n",
      " 0.66089996 0.68827073 0.69142431 0.69487542 0.71129794 0.71082191\n",
      " 0.71885458 0.72587583 0.72153223 0.72188923 0.73735961 0.75663818\n",
      " 0.76508741 0.76110081 0.7735962  0.78531794 0.767884   0.77555967\n",
      " 0.78234286 0.81441435 0.83631092 0.73397124]\n",
      "1 day output [[0.7389203]]\n",
      "2 day input [0.82363704 0.81370027 0.83619189 0.85059129 0.8316698  0.82583866\n",
      " 0.8120937  0.81411682 0.82000743 0.80858312 0.76478988 0.73932317\n",
      " 0.76461139 0.78632955 0.78811453 0.78234286 0.75056899 0.75253255\n",
      " 0.7439643  0.74015619 0.76782453 0.74039425 0.76437342 0.77234662\n",
      " 0.77300114 0.77020456 0.79329124 0.80626256 0.82345854 0.8056676\n",
      " 0.77859432 0.84368916 0.82940871 0.81340274 0.77996283 0.74336934\n",
      " 0.74039425 0.7436073  0.74705841 0.71950911 0.79091112 0.8077501\n",
      " 0.79930087 0.80977314 0.80233543 0.8138193  0.81721085 0.7976943\n",
      " 0.81060616 0.81590189 0.79828936 0.77514321 0.75699518 0.79781333\n",
      " 0.79947937 0.79650429 0.78948313 0.7673485  0.75562667 0.7658014\n",
      " 0.76288588 0.77674978 0.78258092 0.76913357 0.72920791 0.71736704\n",
      " 0.70463369 0.70421722 0.72296021 0.70380067 0.70159913 0.69071032\n",
      " 0.66696916 0.68821126 0.69011526 0.66119749 0.66887321 0.66089996\n",
      " 0.68827073 0.69142431 0.69487542 0.71129794 0.71082191 0.71885458\n",
      " 0.72587583 0.72153223 0.72188923 0.73735961 0.75663818 0.76508741\n",
      " 0.76110081 0.7735962  0.78531794 0.767884   0.77555967 0.78234286\n",
      " 0.81441435 0.83631092 0.73397124 0.73892027]\n",
      "2 day output [[0.74198455]]\n",
      "3 day input [0.81370027 0.83619189 0.85059129 0.8316698  0.82583866 0.8120937\n",
      " 0.81411682 0.82000743 0.80858312 0.76478988 0.73932317 0.76461139\n",
      " 0.78632955 0.78811453 0.78234286 0.75056899 0.75253255 0.7439643\n",
      " 0.74015619 0.76782453 0.74039425 0.76437342 0.77234662 0.77300114\n",
      " 0.77020456 0.79329124 0.80626256 0.82345854 0.8056676  0.77859432\n",
      " 0.84368916 0.82940871 0.81340274 0.77996283 0.74336934 0.74039425\n",
      " 0.7436073  0.74705841 0.71950911 0.79091112 0.8077501  0.79930087\n",
      " 0.80977314 0.80233543 0.8138193  0.81721085 0.7976943  0.81060616\n",
      " 0.81590189 0.79828936 0.77514321 0.75699518 0.79781333 0.79947937\n",
      " 0.79650429 0.78948313 0.7673485  0.75562667 0.7658014  0.76288588\n",
      " 0.77674978 0.78258092 0.76913357 0.72920791 0.71736704 0.70463369\n",
      " 0.70421722 0.72296021 0.70380067 0.70159913 0.69071032 0.66696916\n",
      " 0.68821126 0.69011526 0.66119749 0.66887321 0.66089996 0.68827073\n",
      " 0.69142431 0.69487542 0.71129794 0.71082191 0.71885458 0.72587583\n",
      " 0.72153223 0.72188923 0.73735961 0.75663818 0.76508741 0.76110081\n",
      " 0.7735962  0.78531794 0.767884   0.77555967 0.78234286 0.81441435\n",
      " 0.83631092 0.73397124 0.73892027 0.74198455]\n",
      "3 day output [[0.74309015]]\n",
      "4 day input [0.83619189 0.85059129 0.8316698  0.82583866 0.8120937  0.81411682\n",
      " 0.82000743 0.80858312 0.76478988 0.73932317 0.76461139 0.78632955\n",
      " 0.78811453 0.78234286 0.75056899 0.75253255 0.7439643  0.74015619\n",
      " 0.76782453 0.74039425 0.76437342 0.77234662 0.77300114 0.77020456\n",
      " 0.79329124 0.80626256 0.82345854 0.8056676  0.77859432 0.84368916\n",
      " 0.82940871 0.81340274 0.77996283 0.74336934 0.74039425 0.7436073\n",
      " 0.74705841 0.71950911 0.79091112 0.8077501  0.79930087 0.80977314\n",
      " 0.80233543 0.8138193  0.81721085 0.7976943  0.81060616 0.81590189\n",
      " 0.79828936 0.77514321 0.75699518 0.79781333 0.79947937 0.79650429\n",
      " 0.78948313 0.7673485  0.75562667 0.7658014  0.76288588 0.77674978\n",
      " 0.78258092 0.76913357 0.72920791 0.71736704 0.70463369 0.70421722\n",
      " 0.72296021 0.70380067 0.70159913 0.69071032 0.66696916 0.68821126\n",
      " 0.69011526 0.66119749 0.66887321 0.66089996 0.68827073 0.69142431\n",
      " 0.69487542 0.71129794 0.71082191 0.71885458 0.72587583 0.72153223\n",
      " 0.72188923 0.73735961 0.75663818 0.76508741 0.76110081 0.7735962\n",
      " 0.78531794 0.767884   0.77555967 0.78234286 0.81441435 0.83631092\n",
      " 0.73397124 0.73892027 0.74198455 0.74309015]\n",
      "4 day output [[0.7424245]]\n",
      "5 day input [0.85059129 0.8316698  0.82583866 0.8120937  0.81411682 0.82000743\n",
      " 0.80858312 0.76478988 0.73932317 0.76461139 0.78632955 0.78811453\n",
      " 0.78234286 0.75056899 0.75253255 0.7439643  0.74015619 0.76782453\n",
      " 0.74039425 0.76437342 0.77234662 0.77300114 0.77020456 0.79329124\n",
      " 0.80626256 0.82345854 0.8056676  0.77859432 0.84368916 0.82940871\n",
      " 0.81340274 0.77996283 0.74336934 0.74039425 0.7436073  0.74705841\n",
      " 0.71950911 0.79091112 0.8077501  0.79930087 0.80977314 0.80233543\n",
      " 0.8138193  0.81721085 0.7976943  0.81060616 0.81590189 0.79828936\n",
      " 0.77514321 0.75699518 0.79781333 0.79947937 0.79650429 0.78948313\n",
      " 0.7673485  0.75562667 0.7658014  0.76288588 0.77674978 0.78258092\n",
      " 0.76913357 0.72920791 0.71736704 0.70463369 0.70421722 0.72296021\n",
      " 0.70380067 0.70159913 0.69071032 0.66696916 0.68821126 0.69011526\n",
      " 0.66119749 0.66887321 0.66089996 0.68827073 0.69142431 0.69487542\n",
      " 0.71129794 0.71082191 0.71885458 0.72587583 0.72153223 0.72188923\n",
      " 0.73735961 0.75663818 0.76508741 0.76110081 0.7735962  0.78531794\n",
      " 0.767884   0.77555967 0.78234286 0.81441435 0.83631092 0.73397124\n",
      " 0.73892027 0.74198455 0.74309015 0.74242449]\n",
      "5 day output [[0.7402996]]\n",
      "6 day input [0.8316698  0.82583866 0.8120937  0.81411682 0.82000743 0.80858312\n",
      " 0.76478988 0.73932317 0.76461139 0.78632955 0.78811453 0.78234286\n",
      " 0.75056899 0.75253255 0.7439643  0.74015619 0.76782453 0.74039425\n",
      " 0.76437342 0.77234662 0.77300114 0.77020456 0.79329124 0.80626256\n",
      " 0.82345854 0.8056676  0.77859432 0.84368916 0.82940871 0.81340274\n",
      " 0.77996283 0.74336934 0.74039425 0.7436073  0.74705841 0.71950911\n",
      " 0.79091112 0.8077501  0.79930087 0.80977314 0.80233543 0.8138193\n",
      " 0.81721085 0.7976943  0.81060616 0.81590189 0.79828936 0.77514321\n",
      " 0.75699518 0.79781333 0.79947937 0.79650429 0.78948313 0.7673485\n",
      " 0.75562667 0.7658014  0.76288588 0.77674978 0.78258092 0.76913357\n",
      " 0.72920791 0.71736704 0.70463369 0.70421722 0.72296021 0.70380067\n",
      " 0.70159913 0.69071032 0.66696916 0.68821126 0.69011526 0.66119749\n",
      " 0.66887321 0.66089996 0.68827073 0.69142431 0.69487542 0.71129794\n",
      " 0.71082191 0.71885458 0.72587583 0.72153223 0.72188923 0.73735961\n",
      " 0.75663818 0.76508741 0.76110081 0.7735962  0.78531794 0.767884\n",
      " 0.77555967 0.78234286 0.81441435 0.83631092 0.73397124 0.73892027\n",
      " 0.74198455 0.74309015 0.74242449 0.74029958]\n",
      "6 day output [[0.7370599]]\n",
      "7 day input [0.82583866 0.8120937  0.81411682 0.82000743 0.80858312 0.76478988\n",
      " 0.73932317 0.76461139 0.78632955 0.78811453 0.78234286 0.75056899\n",
      " 0.75253255 0.7439643  0.74015619 0.76782453 0.74039425 0.76437342\n",
      " 0.77234662 0.77300114 0.77020456 0.79329124 0.80626256 0.82345854\n",
      " 0.8056676  0.77859432 0.84368916 0.82940871 0.81340274 0.77996283\n",
      " 0.74336934 0.74039425 0.7436073  0.74705841 0.71950911 0.79091112\n",
      " 0.8077501  0.79930087 0.80977314 0.80233543 0.8138193  0.81721085\n",
      " 0.7976943  0.81060616 0.81590189 0.79828936 0.77514321 0.75699518\n",
      " 0.79781333 0.79947937 0.79650429 0.78948313 0.7673485  0.75562667\n",
      " 0.7658014  0.76288588 0.77674978 0.78258092 0.76913357 0.72920791\n",
      " 0.71736704 0.70463369 0.70421722 0.72296021 0.70380067 0.70159913\n",
      " 0.69071032 0.66696916 0.68821126 0.69011526 0.66119749 0.66887321\n",
      " 0.66089996 0.68827073 0.69142431 0.69487542 0.71129794 0.71082191\n",
      " 0.71885458 0.72587583 0.72153223 0.72188923 0.73735961 0.75663818\n",
      " 0.76508741 0.76110081 0.7735962  0.78531794 0.767884   0.77555967\n",
      " 0.78234286 0.81441435 0.83631092 0.73397124 0.73892027 0.74198455\n",
      " 0.74309015 0.74242449 0.74029958 0.73705989]\n",
      "7 day output [[0.7330267]]\n",
      "8 day input [0.8120937  0.81411682 0.82000743 0.80858312 0.76478988 0.73932317\n",
      " 0.76461139 0.78632955 0.78811453 0.78234286 0.75056899 0.75253255\n",
      " 0.7439643  0.74015619 0.76782453 0.74039425 0.76437342 0.77234662\n",
      " 0.77300114 0.77020456 0.79329124 0.80626256 0.82345854 0.8056676\n",
      " 0.77859432 0.84368916 0.82940871 0.81340274 0.77996283 0.74336934\n",
      " 0.74039425 0.7436073  0.74705841 0.71950911 0.79091112 0.8077501\n",
      " 0.79930087 0.80977314 0.80233543 0.8138193  0.81721085 0.7976943\n",
      " 0.81060616 0.81590189 0.79828936 0.77514321 0.75699518 0.79781333\n",
      " 0.79947937 0.79650429 0.78948313 0.7673485  0.75562667 0.7658014\n",
      " 0.76288588 0.77674978 0.78258092 0.76913357 0.72920791 0.71736704\n",
      " 0.70463369 0.70421722 0.72296021 0.70380067 0.70159913 0.69071032\n",
      " 0.66696916 0.68821126 0.69011526 0.66119749 0.66887321 0.66089996\n",
      " 0.68827073 0.69142431 0.69487542 0.71129794 0.71082191 0.71885458\n",
      " 0.72587583 0.72153223 0.72188923 0.73735961 0.75663818 0.76508741\n",
      " 0.76110081 0.7735962  0.78531794 0.767884   0.77555967 0.78234286\n",
      " 0.81441435 0.83631092 0.73397124 0.73892027 0.74198455 0.74309015\n",
      " 0.74242449 0.74029958 0.73705989 0.73302668]\n",
      "8 day output [[0.7284708]]\n",
      "9 day input [0.81411682 0.82000743 0.80858312 0.76478988 0.73932317 0.76461139\n",
      " 0.78632955 0.78811453 0.78234286 0.75056899 0.75253255 0.7439643\n",
      " 0.74015619 0.76782453 0.74039425 0.76437342 0.77234662 0.77300114\n",
      " 0.77020456 0.79329124 0.80626256 0.82345854 0.8056676  0.77859432\n",
      " 0.84368916 0.82940871 0.81340274 0.77996283 0.74336934 0.74039425\n",
      " 0.7436073  0.74705841 0.71950911 0.79091112 0.8077501  0.79930087\n",
      " 0.80977314 0.80233543 0.8138193  0.81721085 0.7976943  0.81060616\n",
      " 0.81590189 0.79828936 0.77514321 0.75699518 0.79781333 0.79947937\n",
      " 0.79650429 0.78948313 0.7673485  0.75562667 0.7658014  0.76288588\n",
      " 0.77674978 0.78258092 0.76913357 0.72920791 0.71736704 0.70463369\n",
      " 0.70421722 0.72296021 0.70380067 0.70159913 0.69071032 0.66696916\n",
      " 0.68821126 0.69011526 0.66119749 0.66887321 0.66089996 0.68827073\n",
      " 0.69142431 0.69487542 0.71129794 0.71082191 0.71885458 0.72587583\n",
      " 0.72153223 0.72188923 0.73735961 0.75663818 0.76508741 0.76110081\n",
      " 0.7735962  0.78531794 0.767884   0.77555967 0.78234286 0.81441435\n",
      " 0.83631092 0.73397124 0.73892027 0.74198455 0.74309015 0.74242449\n",
      " 0.74029958 0.73705989 0.73302668 0.7284708 ]\n",
      "9 day output [[0.72360414]]\n",
      "10 day input [0.82000743 0.80858312 0.76478988 0.73932317 0.76461139 0.78632955\n",
      " 0.78811453 0.78234286 0.75056899 0.75253255 0.7439643  0.74015619\n",
      " 0.76782453 0.74039425 0.76437342 0.77234662 0.77300114 0.77020456\n",
      " 0.79329124 0.80626256 0.82345854 0.8056676  0.77859432 0.84368916\n",
      " 0.82940871 0.81340274 0.77996283 0.74336934 0.74039425 0.7436073\n",
      " 0.74705841 0.71950911 0.79091112 0.8077501  0.79930087 0.80977314\n",
      " 0.80233543 0.8138193  0.81721085 0.7976943  0.81060616 0.81590189\n",
      " 0.79828936 0.77514321 0.75699518 0.79781333 0.79947937 0.79650429\n",
      " 0.78948313 0.7673485  0.75562667 0.7658014  0.76288588 0.77674978\n",
      " 0.78258092 0.76913357 0.72920791 0.71736704 0.70463369 0.70421722\n",
      " 0.72296021 0.70380067 0.70159913 0.69071032 0.66696916 0.68821126\n",
      " 0.69011526 0.66119749 0.66887321 0.66089996 0.68827073 0.69142431\n",
      " 0.69487542 0.71129794 0.71082191 0.71885458 0.72587583 0.72153223\n",
      " 0.72188923 0.73735961 0.75663818 0.76508741 0.76110081 0.7735962\n",
      " 0.78531794 0.767884   0.77555967 0.78234286 0.81441435 0.83631092\n",
      " 0.73397124 0.73892027 0.74198455 0.74309015 0.74242449 0.74029958\n",
      " 0.73705989 0.73302668 0.7284708  0.72360414]\n",
      "10 day output [[0.71858114]]\n",
      "11 day input [0.80858312 0.76478988 0.73932317 0.76461139 0.78632955 0.78811453\n",
      " 0.78234286 0.75056899 0.75253255 0.7439643  0.74015619 0.76782453\n",
      " 0.74039425 0.76437342 0.77234662 0.77300114 0.77020456 0.79329124\n",
      " 0.80626256 0.82345854 0.8056676  0.77859432 0.84368916 0.82940871\n",
      " 0.81340274 0.77996283 0.74336934 0.74039425 0.7436073  0.74705841\n",
      " 0.71950911 0.79091112 0.8077501  0.79930087 0.80977314 0.80233543\n",
      " 0.8138193  0.81721085 0.7976943  0.81060616 0.81590189 0.79828936\n",
      " 0.77514321 0.75699518 0.79781333 0.79947937 0.79650429 0.78948313\n",
      " 0.7673485  0.75562667 0.7658014  0.76288588 0.77674978 0.78258092\n",
      " 0.76913357 0.72920791 0.71736704 0.70463369 0.70421722 0.72296021\n",
      " 0.70380067 0.70159913 0.69071032 0.66696916 0.68821126 0.69011526\n",
      " 0.66119749 0.66887321 0.66089996 0.68827073 0.69142431 0.69487542\n",
      " 0.71129794 0.71082191 0.71885458 0.72587583 0.72153223 0.72188923\n",
      " 0.73735961 0.75663818 0.76508741 0.76110081 0.7735962  0.78531794\n",
      " 0.767884   0.77555967 0.78234286 0.81441435 0.83631092 0.73397124\n",
      " 0.73892027 0.74198455 0.74309015 0.74242449 0.74029958 0.73705989\n",
      " 0.73302668 0.7284708  0.72360414 0.71858114]\n",
      "11 day output [[0.713509]]\n",
      "12 day input [0.76478988 0.73932317 0.76461139 0.78632955 0.78811453 0.78234286\n",
      " 0.75056899 0.75253255 0.7439643  0.74015619 0.76782453 0.74039425\n",
      " 0.76437342 0.77234662 0.77300114 0.77020456 0.79329124 0.80626256\n",
      " 0.82345854 0.8056676  0.77859432 0.84368916 0.82940871 0.81340274\n",
      " 0.77996283 0.74336934 0.74039425 0.7436073  0.74705841 0.71950911\n",
      " 0.79091112 0.8077501  0.79930087 0.80977314 0.80233543 0.8138193\n",
      " 0.81721085 0.7976943  0.81060616 0.81590189 0.79828936 0.77514321\n",
      " 0.75699518 0.79781333 0.79947937 0.79650429 0.78948313 0.7673485\n",
      " 0.75562667 0.7658014  0.76288588 0.77674978 0.78258092 0.76913357\n",
      " 0.72920791 0.71736704 0.70463369 0.70421722 0.72296021 0.70380067\n",
      " 0.70159913 0.69071032 0.66696916 0.68821126 0.69011526 0.66119749\n",
      " 0.66887321 0.66089996 0.68827073 0.69142431 0.69487542 0.71129794\n",
      " 0.71082191 0.71885458 0.72587583 0.72153223 0.72188923 0.73735961\n",
      " 0.75663818 0.76508741 0.76110081 0.7735962  0.78531794 0.767884\n",
      " 0.77555967 0.78234286 0.81441435 0.83631092 0.73397124 0.73892027\n",
      " 0.74198455 0.74309015 0.74242449 0.74029958 0.73705989 0.73302668\n",
      " 0.7284708  0.72360414 0.71858114 0.71350902]\n",
      "12 day output [[0.70845693]]\n",
      "13 day input [0.73932317 0.76461139 0.78632955 0.78811453 0.78234286 0.75056899\n",
      " 0.75253255 0.7439643  0.74015619 0.76782453 0.74039425 0.76437342\n",
      " 0.77234662 0.77300114 0.77020456 0.79329124 0.80626256 0.82345854\n",
      " 0.8056676  0.77859432 0.84368916 0.82940871 0.81340274 0.77996283\n",
      " 0.74336934 0.74039425 0.7436073  0.74705841 0.71950911 0.79091112\n",
      " 0.8077501  0.79930087 0.80977314 0.80233543 0.8138193  0.81721085\n",
      " 0.7976943  0.81060616 0.81590189 0.79828936 0.77514321 0.75699518\n",
      " 0.79781333 0.79947937 0.79650429 0.78948313 0.7673485  0.75562667\n",
      " 0.7658014  0.76288588 0.77674978 0.78258092 0.76913357 0.72920791\n",
      " 0.71736704 0.70463369 0.70421722 0.72296021 0.70380067 0.70159913\n",
      " 0.69071032 0.66696916 0.68821126 0.69011526 0.66119749 0.66887321\n",
      " 0.66089996 0.68827073 0.69142431 0.69487542 0.71129794 0.71082191\n",
      " 0.71885458 0.72587583 0.72153223 0.72188923 0.73735961 0.75663818\n",
      " 0.76508741 0.76110081 0.7735962  0.78531794 0.767884   0.77555967\n",
      " 0.78234286 0.81441435 0.83631092 0.73397124 0.73892027 0.74198455\n",
      " 0.74309015 0.74242449 0.74029958 0.73705989 0.73302668 0.7284708\n",
      " 0.72360414 0.71858114 0.71350902 0.70845693]\n",
      "13 day output [[0.70346594]]\n",
      "14 day input [0.76461139 0.78632955 0.78811453 0.78234286 0.75056899 0.75253255\n",
      " 0.7439643  0.74015619 0.76782453 0.74039425 0.76437342 0.77234662\n",
      " 0.77300114 0.77020456 0.79329124 0.80626256 0.82345854 0.8056676\n",
      " 0.77859432 0.84368916 0.82940871 0.81340274 0.77996283 0.74336934\n",
      " 0.74039425 0.7436073  0.74705841 0.71950911 0.79091112 0.8077501\n",
      " 0.79930087 0.80977314 0.80233543 0.8138193  0.81721085 0.7976943\n",
      " 0.81060616 0.81590189 0.79828936 0.77514321 0.75699518 0.79781333\n",
      " 0.79947937 0.79650429 0.78948313 0.7673485  0.75562667 0.7658014\n",
      " 0.76288588 0.77674978 0.78258092 0.76913357 0.72920791 0.71736704\n",
      " 0.70463369 0.70421722 0.72296021 0.70380067 0.70159913 0.69071032\n",
      " 0.66696916 0.68821126 0.69011526 0.66119749 0.66887321 0.66089996\n",
      " 0.68827073 0.69142431 0.69487542 0.71129794 0.71082191 0.71885458\n",
      " 0.72587583 0.72153223 0.72188923 0.73735961 0.75663818 0.76508741\n",
      " 0.76110081 0.7735962  0.78531794 0.767884   0.77555967 0.78234286\n",
      " 0.81441435 0.83631092 0.73397124 0.73892027 0.74198455 0.74309015\n",
      " 0.74242449 0.74029958 0.73705989 0.73302668 0.7284708  0.72360414\n",
      " 0.71858114 0.71350902 0.70845693 0.70346594]\n",
      "14 day output [[0.6985594]]\n",
      "15 day input [0.78632955 0.78811453 0.78234286 0.75056899 0.75253255 0.7439643\n",
      " 0.74015619 0.76782453 0.74039425 0.76437342 0.77234662 0.77300114\n",
      " 0.77020456 0.79329124 0.80626256 0.82345854 0.8056676  0.77859432\n",
      " 0.84368916 0.82940871 0.81340274 0.77996283 0.74336934 0.74039425\n",
      " 0.7436073  0.74705841 0.71950911 0.79091112 0.8077501  0.79930087\n",
      " 0.80977314 0.80233543 0.8138193  0.81721085 0.7976943  0.81060616\n",
      " 0.81590189 0.79828936 0.77514321 0.75699518 0.79781333 0.79947937\n",
      " 0.79650429 0.78948313 0.7673485  0.75562667 0.7658014  0.76288588\n",
      " 0.77674978 0.78258092 0.76913357 0.72920791 0.71736704 0.70463369\n",
      " 0.70421722 0.72296021 0.70380067 0.70159913 0.69071032 0.66696916\n",
      " 0.68821126 0.69011526 0.66119749 0.66887321 0.66089996 0.68827073\n",
      " 0.69142431 0.69487542 0.71129794 0.71082191 0.71885458 0.72587583\n",
      " 0.72153223 0.72188923 0.73735961 0.75663818 0.76508741 0.76110081\n",
      " 0.7735962  0.78531794 0.767884   0.77555967 0.78234286 0.81441435\n",
      " 0.83631092 0.73397124 0.73892027 0.74198455 0.74309015 0.74242449\n",
      " 0.74029958 0.73705989 0.73302668 0.7284708  0.72360414 0.71858114\n",
      " 0.71350902 0.70845693 0.70346594 0.6985594 ]\n",
      "15 day output [[0.6937481]]\n",
      "16 day input [0.78811453 0.78234286 0.75056899 0.75253255 0.7439643  0.74015619\n",
      " 0.76782453 0.74039425 0.76437342 0.77234662 0.77300114 0.77020456\n",
      " 0.79329124 0.80626256 0.82345854 0.8056676  0.77859432 0.84368916\n",
      " 0.82940871 0.81340274 0.77996283 0.74336934 0.74039425 0.7436073\n",
      " 0.74705841 0.71950911 0.79091112 0.8077501  0.79930087 0.80977314\n",
      " 0.80233543 0.8138193  0.81721085 0.7976943  0.81060616 0.81590189\n",
      " 0.79828936 0.77514321 0.75699518 0.79781333 0.79947937 0.79650429\n",
      " 0.78948313 0.7673485  0.75562667 0.7658014  0.76288588 0.77674978\n",
      " 0.78258092 0.76913357 0.72920791 0.71736704 0.70463369 0.70421722\n",
      " 0.72296021 0.70380067 0.70159913 0.69071032 0.66696916 0.68821126\n",
      " 0.69011526 0.66119749 0.66887321 0.66089996 0.68827073 0.69142431\n",
      " 0.69487542 0.71129794 0.71082191 0.71885458 0.72587583 0.72153223\n",
      " 0.72188923 0.73735961 0.75663818 0.76508741 0.76110081 0.7735962\n",
      " 0.78531794 0.767884   0.77555967 0.78234286 0.81441435 0.83631092\n",
      " 0.73397124 0.73892027 0.74198455 0.74309015 0.74242449 0.74029958\n",
      " 0.73705989 0.73302668 0.7284708  0.72360414 0.71858114 0.71350902\n",
      " 0.70845693 0.70346594 0.6985594  0.69374812]\n",
      "16 day output [[0.6890362]]\n",
      "17 day input [0.78234286 0.75056899 0.75253255 0.7439643  0.74015619 0.76782453\n",
      " 0.74039425 0.76437342 0.77234662 0.77300114 0.77020456 0.79329124\n",
      " 0.80626256 0.82345854 0.8056676  0.77859432 0.84368916 0.82940871\n",
      " 0.81340274 0.77996283 0.74336934 0.74039425 0.7436073  0.74705841\n",
      " 0.71950911 0.79091112 0.8077501  0.79930087 0.80977314 0.80233543\n",
      " 0.8138193  0.81721085 0.7976943  0.81060616 0.81590189 0.79828936\n",
      " 0.77514321 0.75699518 0.79781333 0.79947937 0.79650429 0.78948313\n",
      " 0.7673485  0.75562667 0.7658014  0.76288588 0.77674978 0.78258092\n",
      " 0.76913357 0.72920791 0.71736704 0.70463369 0.70421722 0.72296021\n",
      " 0.70380067 0.70159913 0.69071032 0.66696916 0.68821126 0.69011526\n",
      " 0.66119749 0.66887321 0.66089996 0.68827073 0.69142431 0.69487542\n",
      " 0.71129794 0.71082191 0.71885458 0.72587583 0.72153223 0.72188923\n",
      " 0.73735961 0.75663818 0.76508741 0.76110081 0.7735962  0.78531794\n",
      " 0.767884   0.77555967 0.78234286 0.81441435 0.83631092 0.73397124\n",
      " 0.73892027 0.74198455 0.74309015 0.74242449 0.74029958 0.73705989\n",
      " 0.73302668 0.7284708  0.72360414 0.71858114 0.71350902 0.70845693\n",
      " 0.70346594 0.6985594  0.69374812 0.68903619]\n",
      "17 day output [[0.68442464]]\n",
      "18 day input [0.75056899 0.75253255 0.7439643  0.74015619 0.76782453 0.74039425\n",
      " 0.76437342 0.77234662 0.77300114 0.77020456 0.79329124 0.80626256\n",
      " 0.82345854 0.8056676  0.77859432 0.84368916 0.82940871 0.81340274\n",
      " 0.77996283 0.74336934 0.74039425 0.7436073  0.74705841 0.71950911\n",
      " 0.79091112 0.8077501  0.79930087 0.80977314 0.80233543 0.8138193\n",
      " 0.81721085 0.7976943  0.81060616 0.81590189 0.79828936 0.77514321\n",
      " 0.75699518 0.79781333 0.79947937 0.79650429 0.78948313 0.7673485\n",
      " 0.75562667 0.7658014  0.76288588 0.77674978 0.78258092 0.76913357\n",
      " 0.72920791 0.71736704 0.70463369 0.70421722 0.72296021 0.70380067\n",
      " 0.70159913 0.69071032 0.66696916 0.68821126 0.69011526 0.66119749\n",
      " 0.66887321 0.66089996 0.68827073 0.69142431 0.69487542 0.71129794\n",
      " 0.71082191 0.71885458 0.72587583 0.72153223 0.72188923 0.73735961\n",
      " 0.75663818 0.76508741 0.76110081 0.7735962  0.78531794 0.767884\n",
      " 0.77555967 0.78234286 0.81441435 0.83631092 0.73397124 0.73892027\n",
      " 0.74198455 0.74309015 0.74242449 0.74029958 0.73705989 0.73302668\n",
      " 0.7284708  0.72360414 0.71858114 0.71350902 0.70845693 0.70346594\n",
      " 0.6985594  0.69374812 0.68903619 0.68442464]\n",
      "18 day output [[0.67991257]]\n",
      "19 day input [0.75253255 0.7439643  0.74015619 0.76782453 0.74039425 0.76437342\n",
      " 0.77234662 0.77300114 0.77020456 0.79329124 0.80626256 0.82345854\n",
      " 0.8056676  0.77859432 0.84368916 0.82940871 0.81340274 0.77996283\n",
      " 0.74336934 0.74039425 0.7436073  0.74705841 0.71950911 0.79091112\n",
      " 0.8077501  0.79930087 0.80977314 0.80233543 0.8138193  0.81721085\n",
      " 0.7976943  0.81060616 0.81590189 0.79828936 0.77514321 0.75699518\n",
      " 0.79781333 0.79947937 0.79650429 0.78948313 0.7673485  0.75562667\n",
      " 0.7658014  0.76288588 0.77674978 0.78258092 0.76913357 0.72920791\n",
      " 0.71736704 0.70463369 0.70421722 0.72296021 0.70380067 0.70159913\n",
      " 0.69071032 0.66696916 0.68821126 0.69011526 0.66119749 0.66887321\n",
      " 0.66089996 0.68827073 0.69142431 0.69487542 0.71129794 0.71082191\n",
      " 0.71885458 0.72587583 0.72153223 0.72188923 0.73735961 0.75663818\n",
      " 0.76508741 0.76110081 0.7735962  0.78531794 0.767884   0.77555967\n",
      " 0.78234286 0.81441435 0.83631092 0.73397124 0.73892027 0.74198455\n",
      " 0.74309015 0.74242449 0.74029958 0.73705989 0.73302668 0.7284708\n",
      " 0.72360414 0.71858114 0.71350902 0.70845693 0.70346594 0.6985594\n",
      " 0.69374812 0.68903619 0.68442464 0.67991257]\n",
      "19 day output [[0.67549896]]\n",
      "20 day input [0.7439643  0.74015619 0.76782453 0.74039425 0.76437342 0.77234662\n",
      " 0.77300114 0.77020456 0.79329124 0.80626256 0.82345854 0.8056676\n",
      " 0.77859432 0.84368916 0.82940871 0.81340274 0.77996283 0.74336934\n",
      " 0.74039425 0.7436073  0.74705841 0.71950911 0.79091112 0.8077501\n",
      " 0.79930087 0.80977314 0.80233543 0.8138193  0.81721085 0.7976943\n",
      " 0.81060616 0.81590189 0.79828936 0.77514321 0.75699518 0.79781333\n",
      " 0.79947937 0.79650429 0.78948313 0.7673485  0.75562667 0.7658014\n",
      " 0.76288588 0.77674978 0.78258092 0.76913357 0.72920791 0.71736704\n",
      " 0.70463369 0.70421722 0.72296021 0.70380067 0.70159913 0.69071032\n",
      " 0.66696916 0.68821126 0.69011526 0.66119749 0.66887321 0.66089996\n",
      " 0.68827073 0.69142431 0.69487542 0.71129794 0.71082191 0.71885458\n",
      " 0.72587583 0.72153223 0.72188923 0.73735961 0.75663818 0.76508741\n",
      " 0.76110081 0.7735962  0.78531794 0.767884   0.77555967 0.78234286\n",
      " 0.81441435 0.83631092 0.73397124 0.73892027 0.74198455 0.74309015\n",
      " 0.74242449 0.74029958 0.73705989 0.73302668 0.7284708  0.72360414\n",
      " 0.71858114 0.71350902 0.70845693 0.70346594 0.6985594  0.69374812\n",
      " 0.68903619 0.68442464 0.67991257 0.67549896]\n",
      "20 day output [[0.6711835]]\n",
      "21 day input [0.74015619 0.76782453 0.74039425 0.76437342 0.77234662 0.77300114\n",
      " 0.77020456 0.79329124 0.80626256 0.82345854 0.8056676  0.77859432\n",
      " 0.84368916 0.82940871 0.81340274 0.77996283 0.74336934 0.74039425\n",
      " 0.7436073  0.74705841 0.71950911 0.79091112 0.8077501  0.79930087\n",
      " 0.80977314 0.80233543 0.8138193  0.81721085 0.7976943  0.81060616\n",
      " 0.81590189 0.79828936 0.77514321 0.75699518 0.79781333 0.79947937\n",
      " 0.79650429 0.78948313 0.7673485  0.75562667 0.7658014  0.76288588\n",
      " 0.77674978 0.78258092 0.76913357 0.72920791 0.71736704 0.70463369\n",
      " 0.70421722 0.72296021 0.70380067 0.70159913 0.69071032 0.66696916\n",
      " 0.68821126 0.69011526 0.66119749 0.66887321 0.66089996 0.68827073\n",
      " 0.69142431 0.69487542 0.71129794 0.71082191 0.71885458 0.72587583\n",
      " 0.72153223 0.72188923 0.73735961 0.75663818 0.76508741 0.76110081\n",
      " 0.7735962  0.78531794 0.767884   0.77555967 0.78234286 0.81441435\n",
      " 0.83631092 0.73397124 0.73892027 0.74198455 0.74309015 0.74242449\n",
      " 0.74029958 0.73705989 0.73302668 0.7284708  0.72360414 0.71858114\n",
      " 0.71350902 0.70845693 0.70346594 0.6985594  0.69374812 0.68903619\n",
      " 0.68442464 0.67991257 0.67549896 0.67118353]\n",
      "21 day output [[0.6669655]]\n",
      "22 day input [0.76782453 0.74039425 0.76437342 0.77234662 0.77300114 0.77020456\n",
      " 0.79329124 0.80626256 0.82345854 0.8056676  0.77859432 0.84368916\n",
      " 0.82940871 0.81340274 0.77996283 0.74336934 0.74039425 0.7436073\n",
      " 0.74705841 0.71950911 0.79091112 0.8077501  0.79930087 0.80977314\n",
      " 0.80233543 0.8138193  0.81721085 0.7976943  0.81060616 0.81590189\n",
      " 0.79828936 0.77514321 0.75699518 0.79781333 0.79947937 0.79650429\n",
      " 0.78948313 0.7673485  0.75562667 0.7658014  0.76288588 0.77674978\n",
      " 0.78258092 0.76913357 0.72920791 0.71736704 0.70463369 0.70421722\n",
      " 0.72296021 0.70380067 0.70159913 0.69071032 0.66696916 0.68821126\n",
      " 0.69011526 0.66119749 0.66887321 0.66089996 0.68827073 0.69142431\n",
      " 0.69487542 0.71129794 0.71082191 0.71885458 0.72587583 0.72153223\n",
      " 0.72188923 0.73735961 0.75663818 0.76508741 0.76110081 0.7735962\n",
      " 0.78531794 0.767884   0.77555967 0.78234286 0.81441435 0.83631092\n",
      " 0.73397124 0.73892027 0.74198455 0.74309015 0.74242449 0.74029958\n",
      " 0.73705989 0.73302668 0.7284708  0.72360414 0.71858114 0.71350902\n",
      " 0.70845693 0.70346594 0.6985594  0.69374812 0.68903619 0.68442464\n",
      " 0.67991257 0.67549896 0.67118353 0.66696548]\n",
      "22 day output [[0.66284484]]\n",
      "23 day input [0.74039425 0.76437342 0.77234662 0.77300114 0.77020456 0.79329124\n",
      " 0.80626256 0.82345854 0.8056676  0.77859432 0.84368916 0.82940871\n",
      " 0.81340274 0.77996283 0.74336934 0.74039425 0.7436073  0.74705841\n",
      " 0.71950911 0.79091112 0.8077501  0.79930087 0.80977314 0.80233543\n",
      " 0.8138193  0.81721085 0.7976943  0.81060616 0.81590189 0.79828936\n",
      " 0.77514321 0.75699518 0.79781333 0.79947937 0.79650429 0.78948313\n",
      " 0.7673485  0.75562667 0.7658014  0.76288588 0.77674978 0.78258092\n",
      " 0.76913357 0.72920791 0.71736704 0.70463369 0.70421722 0.72296021\n",
      " 0.70380067 0.70159913 0.69071032 0.66696916 0.68821126 0.69011526\n",
      " 0.66119749 0.66887321 0.66089996 0.68827073 0.69142431 0.69487542\n",
      " 0.71129794 0.71082191 0.71885458 0.72587583 0.72153223 0.72188923\n",
      " 0.73735961 0.75663818 0.76508741 0.76110081 0.7735962  0.78531794\n",
      " 0.767884   0.77555967 0.78234286 0.81441435 0.83631092 0.73397124\n",
      " 0.73892027 0.74198455 0.74309015 0.74242449 0.74029958 0.73705989\n",
      " 0.73302668 0.7284708  0.72360414 0.71858114 0.71350902 0.70845693\n",
      " 0.70346594 0.6985594  0.69374812 0.68903619 0.68442464 0.67991257\n",
      " 0.67549896 0.67118353 0.66696548 0.66284484]\n",
      "23 day output [[0.6588216]]\n",
      "24 day input [0.76437342 0.77234662 0.77300114 0.77020456 0.79329124 0.80626256\n",
      " 0.82345854 0.8056676  0.77859432 0.84368916 0.82940871 0.81340274\n",
      " 0.77996283 0.74336934 0.74039425 0.7436073  0.74705841 0.71950911\n",
      " 0.79091112 0.8077501  0.79930087 0.80977314 0.80233543 0.8138193\n",
      " 0.81721085 0.7976943  0.81060616 0.81590189 0.79828936 0.77514321\n",
      " 0.75699518 0.79781333 0.79947937 0.79650429 0.78948313 0.7673485\n",
      " 0.75562667 0.7658014  0.76288588 0.77674978 0.78258092 0.76913357\n",
      " 0.72920791 0.71736704 0.70463369 0.70421722 0.72296021 0.70380067\n",
      " 0.70159913 0.69071032 0.66696916 0.68821126 0.69011526 0.66119749\n",
      " 0.66887321 0.66089996 0.68827073 0.69142431 0.69487542 0.71129794\n",
      " 0.71082191 0.71885458 0.72587583 0.72153223 0.72188923 0.73735961\n",
      " 0.75663818 0.76508741 0.76110081 0.7735962  0.78531794 0.767884\n",
      " 0.77555967 0.78234286 0.81441435 0.83631092 0.73397124 0.73892027\n",
      " 0.74198455 0.74309015 0.74242449 0.74029958 0.73705989 0.73302668\n",
      " 0.7284708  0.72360414 0.71858114 0.71350902 0.70845693 0.70346594\n",
      " 0.6985594  0.69374812 0.68903619 0.68442464 0.67991257 0.67549896\n",
      " 0.67118353 0.66696548 0.66284484 0.65882158]\n",
      "24 day output [[0.65489566]]\n",
      "25 day input [0.77234662 0.77300114 0.77020456 0.79329124 0.80626256 0.82345854\n",
      " 0.8056676  0.77859432 0.84368916 0.82940871 0.81340274 0.77996283\n",
      " 0.74336934 0.74039425 0.7436073  0.74705841 0.71950911 0.79091112\n",
      " 0.8077501  0.79930087 0.80977314 0.80233543 0.8138193  0.81721085\n",
      " 0.7976943  0.81060616 0.81590189 0.79828936 0.77514321 0.75699518\n",
      " 0.79781333 0.79947937 0.79650429 0.78948313 0.7673485  0.75562667\n",
      " 0.7658014  0.76288588 0.77674978 0.78258092 0.76913357 0.72920791\n",
      " 0.71736704 0.70463369 0.70421722 0.72296021 0.70380067 0.70159913\n",
      " 0.69071032 0.66696916 0.68821126 0.69011526 0.66119749 0.66887321\n",
      " 0.66089996 0.68827073 0.69142431 0.69487542 0.71129794 0.71082191\n",
      " 0.71885458 0.72587583 0.72153223 0.72188923 0.73735961 0.75663818\n",
      " 0.76508741 0.76110081 0.7735962  0.78531794 0.767884   0.77555967\n",
      " 0.78234286 0.81441435 0.83631092 0.73397124 0.73892027 0.74198455\n",
      " 0.74309015 0.74242449 0.74029958 0.73705989 0.73302668 0.7284708\n",
      " 0.72360414 0.71858114 0.71350902 0.70845693 0.70346594 0.6985594\n",
      " 0.69374812 0.68903619 0.68442464 0.67991257 0.67549896 0.67118353\n",
      " 0.66696548 0.66284484 0.65882158 0.65489566]\n",
      "25 day output [[0.6510666]]\n",
      "26 day input [0.77300114 0.77020456 0.79329124 0.80626256 0.82345854 0.8056676\n",
      " 0.77859432 0.84368916 0.82940871 0.81340274 0.77996283 0.74336934\n",
      " 0.74039425 0.7436073  0.74705841 0.71950911 0.79091112 0.8077501\n",
      " 0.79930087 0.80977314 0.80233543 0.8138193  0.81721085 0.7976943\n",
      " 0.81060616 0.81590189 0.79828936 0.77514321 0.75699518 0.79781333\n",
      " 0.79947937 0.79650429 0.78948313 0.7673485  0.75562667 0.7658014\n",
      " 0.76288588 0.77674978 0.78258092 0.76913357 0.72920791 0.71736704\n",
      " 0.70463369 0.70421722 0.72296021 0.70380067 0.70159913 0.69071032\n",
      " 0.66696916 0.68821126 0.69011526 0.66119749 0.66887321 0.66089996\n",
      " 0.68827073 0.69142431 0.69487542 0.71129794 0.71082191 0.71885458\n",
      " 0.72587583 0.72153223 0.72188923 0.73735961 0.75663818 0.76508741\n",
      " 0.76110081 0.7735962  0.78531794 0.767884   0.77555967 0.78234286\n",
      " 0.81441435 0.83631092 0.73397124 0.73892027 0.74198455 0.74309015\n",
      " 0.74242449 0.74029958 0.73705989 0.73302668 0.7284708  0.72360414\n",
      " 0.71858114 0.71350902 0.70845693 0.70346594 0.6985594  0.69374812\n",
      " 0.68903619 0.68442464 0.67991257 0.67549896 0.67118353 0.66696548\n",
      " 0.66284484 0.65882158 0.65489566 0.6510666 ]\n",
      "26 day output [[0.6473338]]\n",
      "27 day input [0.77020456 0.79329124 0.80626256 0.82345854 0.8056676  0.77859432\n",
      " 0.84368916 0.82940871 0.81340274 0.77996283 0.74336934 0.74039425\n",
      " 0.7436073  0.74705841 0.71950911 0.79091112 0.8077501  0.79930087\n",
      " 0.80977314 0.80233543 0.8138193  0.81721085 0.7976943  0.81060616\n",
      " 0.81590189 0.79828936 0.77514321 0.75699518 0.79781333 0.79947937\n",
      " 0.79650429 0.78948313 0.7673485  0.75562667 0.7658014  0.76288588\n",
      " 0.77674978 0.78258092 0.76913357 0.72920791 0.71736704 0.70463369\n",
      " 0.70421722 0.72296021 0.70380067 0.70159913 0.69071032 0.66696916\n",
      " 0.68821126 0.69011526 0.66119749 0.66887321 0.66089996 0.68827073\n",
      " 0.69142431 0.69487542 0.71129794 0.71082191 0.71885458 0.72587583\n",
      " 0.72153223 0.72188923 0.73735961 0.75663818 0.76508741 0.76110081\n",
      " 0.7735962  0.78531794 0.767884   0.77555967 0.78234286 0.81441435\n",
      " 0.83631092 0.73397124 0.73892027 0.74198455 0.74309015 0.74242449\n",
      " 0.74029958 0.73705989 0.73302668 0.7284708  0.72360414 0.71858114\n",
      " 0.71350902 0.70845693 0.70346594 0.6985594  0.69374812 0.68903619\n",
      " 0.68442464 0.67991257 0.67549896 0.67118353 0.66696548 0.66284484\n",
      " 0.65882158 0.65489566 0.6510666  0.6473338 ]\n",
      "27 day output [[0.6436962]]\n",
      "28 day input [0.79329124 0.80626256 0.82345854 0.8056676  0.77859432 0.84368916\n",
      " 0.82940871 0.81340274 0.77996283 0.74336934 0.74039425 0.7436073\n",
      " 0.74705841 0.71950911 0.79091112 0.8077501  0.79930087 0.80977314\n",
      " 0.80233543 0.8138193  0.81721085 0.7976943  0.81060616 0.81590189\n",
      " 0.79828936 0.77514321 0.75699518 0.79781333 0.79947937 0.79650429\n",
      " 0.78948313 0.7673485  0.75562667 0.7658014  0.76288588 0.77674978\n",
      " 0.78258092 0.76913357 0.72920791 0.71736704 0.70463369 0.70421722\n",
      " 0.72296021 0.70380067 0.70159913 0.69071032 0.66696916 0.68821126\n",
      " 0.69011526 0.66119749 0.66887321 0.66089996 0.68827073 0.69142431\n",
      " 0.69487542 0.71129794 0.71082191 0.71885458 0.72587583 0.72153223\n",
      " 0.72188923 0.73735961 0.75663818 0.76508741 0.76110081 0.7735962\n",
      " 0.78531794 0.767884   0.77555967 0.78234286 0.81441435 0.83631092\n",
      " 0.73397124 0.73892027 0.74198455 0.74309015 0.74242449 0.74029958\n",
      " 0.73705989 0.73302668 0.7284708  0.72360414 0.71858114 0.71350902\n",
      " 0.70845693 0.70346594 0.6985594  0.69374812 0.68903619 0.68442464\n",
      " 0.67991257 0.67549896 0.67118353 0.66696548 0.66284484 0.65882158\n",
      " 0.65489566 0.6510666  0.6473338  0.64369619]\n",
      "28 day output [[0.6401525]]\n",
      "29 day input [0.80626256 0.82345854 0.8056676  0.77859432 0.84368916 0.82940871\n",
      " 0.81340274 0.77996283 0.74336934 0.74039425 0.7436073  0.74705841\n",
      " 0.71950911 0.79091112 0.8077501  0.79930087 0.80977314 0.80233543\n",
      " 0.8138193  0.81721085 0.7976943  0.81060616 0.81590189 0.79828936\n",
      " 0.77514321 0.75699518 0.79781333 0.79947937 0.79650429 0.78948313\n",
      " 0.7673485  0.75562667 0.7658014  0.76288588 0.77674978 0.78258092\n",
      " 0.76913357 0.72920791 0.71736704 0.70463369 0.70421722 0.72296021\n",
      " 0.70380067 0.70159913 0.69071032 0.66696916 0.68821126 0.69011526\n",
      " 0.66119749 0.66887321 0.66089996 0.68827073 0.69142431 0.69487542\n",
      " 0.71129794 0.71082191 0.71885458 0.72587583 0.72153223 0.72188923\n",
      " 0.73735961 0.75663818 0.76508741 0.76110081 0.7735962  0.78531794\n",
      " 0.767884   0.77555967 0.78234286 0.81441435 0.83631092 0.73397124\n",
      " 0.73892027 0.74198455 0.74309015 0.74242449 0.74029958 0.73705989\n",
      " 0.73302668 0.7284708  0.72360414 0.71858114 0.71350902 0.70845693\n",
      " 0.70346594 0.6985594  0.69374812 0.68903619 0.68442464 0.67991257\n",
      " 0.67549896 0.67118353 0.66696548 0.66284484 0.65882158 0.65489566\n",
      " 0.6510666  0.6473338  0.64369619 0.64015251]\n",
      "29 day output [[0.6367011]]\n",
      "[[0.7339712381362915], [0.738920271396637], [0.7419845461845398], [0.7430901527404785], [0.742424488067627], [0.7402995824813843], [0.7370598912239075], [0.7330266833305359], [0.7284708023071289], [0.723604142665863], [0.7185811400413513], [0.7135090231895447], [0.7084569334983826], [0.7034659385681152], [0.6985594034194946], [0.6937481164932251], [0.6890361905097961], [0.684424638748169], [0.6799125671386719], [0.6754989624023438], [0.6711835265159607], [0.6669654846191406], [0.6628448367118835], [0.6588215827941895], [0.6548956632614136], [0.6510666012763977], [0.6473338007926941], [0.6436961889266968], [0.6401525139808655], [0.6367011070251465]]\n"
     ]
    }
   ],
   "source": [
    "# demonstrate prediction for next 10 days\n",
    "from numpy import array\n",
    "\n",
    "lst_output=[]\n",
    "n_steps=100\n",
    "i=0\n",
    "while(i<30):\n",
    "    \n",
    "    if(len(temp_input)>100):\n",
    "        #print(temp_input)\n",
    "        x_input=np.array(temp_input[1:])\n",
    "        print(\"{} day input {}\".format(i,x_input))\n",
    "        x_input=x_input.reshape(1,-1)\n",
    "        x_input = x_input.reshape((1, n_steps, 1))\n",
    "        #print(x_input)\n",
    "        yhat = model.predict(x_input, verbose=0)\n",
    "        print(\"{} day output {}\".format(i,yhat))\n",
    "        temp_input.extend(yhat[0].tolist())\n",
    "        temp_input=temp_input[1:]\n",
    "        #print(temp_input)\n",
    "        lst_output.extend(yhat.tolist())\n",
    "        i=i+1\n",
    "    else:\n",
    "        x_input = x_input.reshape((1, n_steps,1))\n",
    "        yhat = model.predict(x_input, verbose=0)\n",
    "        print(yhat[0])\n",
    "        temp_input.extend(yhat[0].tolist())\n",
    "        print(len(temp_input))\n",
    "        lst_output.extend(yhat.tolist())\n",
    "        i=i+1\n",
    "    \n",
    "\n",
    "print(lst_output)"
   ]
  },
  {
   "cell_type": "code",
   "execution_count": null,
   "metadata": {},
   "outputs": [],
   "source": [
    "day_new=np.arange(1,101)\n",
    "day_pred=np.arange(101,131)"
   ]
  },
  {
   "cell_type": "code",
   "execution_count": null,
   "metadata": {},
   "outputs": [],
   "source": [
    "import matplotlib.pyplot as plt"
   ]
  },
  {
   "cell_type": "code",
   "execution_count": null,
   "metadata": {},
   "outputs": [
    {
     "data": {
      "text/plain": [
       "2791"
      ]
     },
     "execution_count": 89,
     "metadata": {},
     "output_type": "execute_result"
    }
   ],
   "source": [
    "len(df1)"
   ]
  },
  {
   "cell_type": "code",
   "execution_count": null,
   "metadata": {},
   "outputs": [],
   "source": []
  },
  {
   "cell_type": "code",
   "execution_count": null,
   "metadata": {},
   "outputs": [
    {
     "data": {
      "text/plain": [
       "[<matplotlib.lines.Line2D at 0x20ba0553220>]"
      ]
     },
     "execution_count": 90,
     "metadata": {},
     "output_type": "execute_result"
    },
    {
     "data": {
      "image/png": "[encoded data removed]",
      "text/plain": [
       "<Figure size 640x480 with 1 Axes>"
      ]
     },
     "metadata": {},
     "output_type": "display_data"
    }
   ],
   "source": [
    "plt.plot(day_new,scaler.inverse_transform(df1[len(df1)-100:]))\n",
    "plt.plot(day_pred,scaler.inverse_transform(lst_output))"
   ]
  },
  {
   "cell_type": "code",
   "execution_count": null,
   "metadata": {},
   "outputs": [
    {
     "data": {
      "text/plain": [
       "[<matplotlib.lines.Line2D at 0x20ba0489310>]"
      ]
     },
     "execution_count": 91,
     "metadata": {},
     "output_type": "execute_result"
    },
    {
     "data": {
      "image/png": "[encoded data removed]",
      "text/plain": [
       "<Figure size 640x480 with 1 Axes>"
      ]
     },
     "metadata": {},
     "output_type": "display_data"
    }
   ],
   "source": [
    "df3=df1.tolist()\n",
    "df3.extend(lst_output)\n",
    "plt.plot(df3[2200:])"
   ]
  },
  {
   "cell_type": "code",
   "execution_count": null,
   "metadata": {},
   "outputs": [],
   "source": [
    "df3=scaler.inverse_transform(df3).tolist()"
   ]
  },
  {
   "cell_type": "code",
   "execution_count": null,
   "metadata": {},
   "outputs": [
    {
     "data": {
      "text/plain": [
       "[<matplotlib.lines.Line2D at 0x20ba04ed820>]"
      ]
     },
     "execution_count": 93,
     "metadata": {},
     "output_type": "execute_result"
    },
    {
     "data": {
      "image/png": "[encoded data removed]",
      "text/plain": [
       "<Figure size 640x480 with 1 Axes>"
      ]
     },
     "metadata": {},
     "output_type": "display_data"
    }
   ],
   "source": [
    "plt.plot(df3)"
   ]
  },
  {
   "cell_type": "code",
   "execution_count": null,
   "metadata": {},
   "outputs": [],
   "source": []
  }
 ],
 "metadata": {
  "kernelspec": {
   "display_name": "Python 3.9.7 ('env': venv)",
   "language": "python",
   "name": "python3"
  },
  "language_info": {
   "codemirror_mode": {
    "name": "ipython",
    "version": 3
   },
   "file_extension": ".py",
   "mimetype": "text/x-python",
   "name": "python",
   "nbconvert_exporter": "python",
   "pygments_lexer": "ipython3",
   "version": "3.9.7"
  },
  "vscode": {
   "interpreter": {
    "hash": "ebfab15069c05904233f7355f27e454a17f3fb8a6702165e9863e8e9188afd93"
   }
  }
 },
 "nbformat": 4,
 "nbformat_minor": 2
}
